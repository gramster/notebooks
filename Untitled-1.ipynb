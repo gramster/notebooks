{
 "cells": [
  {
   "cell_type": "code",
   "execution_count": 1,
   "metadata": {},
   "outputs": [
    {
     "name": "stdout",
     "output_type": "stream",
     "text": [
      "Requirement already satisfied: sanddance in /Users/grwheele/.pyenv/versions/3.8.5/lib/python3.8/site-packages (3.0.0)\n",
      "Requirement already satisfied: ipywidgets>=7.0.0 in /Users/grwheele/.pyenv/versions/3.8.5/lib/python3.8/site-packages (from sanddance) (7.5.1)\n",
      "Requirement already satisfied: traitlets>=4.3.3 in /Users/grwheele/.pyenv/versions/3.8.5/lib/python3.8/site-packages (from sanddance) (4.3.3)\n",
      "Requirement already satisfied: pandas>=1.0.0 in /Users/grwheele/.pyenv/versions/3.8.5/lib/python3.8/site-packages (from sanddance) (1.1.0)\n",
      "Requirement already satisfied: ipython>=4.0.0 in /Users/grwheele/.pyenv/versions/3.8.5/lib/python3.8/site-packages (from ipywidgets>=7.0.0->sanddance) (7.17.0)\n",
      "Requirement already satisfied: nbformat>=4.2.0 in /Users/grwheele/.pyenv/versions/3.8.5/lib/python3.8/site-packages (from ipywidgets>=7.0.0->sanddance) (5.0.7)\n",
      "Requirement already satisfied: ipykernel>=4.5.1 in /Users/grwheele/.pyenv/versions/3.8.5/lib/python3.8/site-packages (from ipywidgets>=7.0.0->sanddance) (5.3.4)\n",
      "Requirement already satisfied: widgetsnbextension~=3.5.0 in /Users/grwheele/.pyenv/versions/3.8.5/lib/python3.8/site-packages (from ipywidgets>=7.0.0->sanddance) (3.5.1)\n",
      "Requirement already satisfied: jupyter-client in /Users/grwheele/.pyenv/versions/3.8.5/lib/python3.8/site-packages (from ipykernel>=4.5.1->ipywidgets>=7.0.0->sanddance) (6.1.6)\n",
      "Requirement already satisfied: tornado>=4.2 in /Users/grwheele/.pyenv/versions/3.8.5/lib/python3.8/site-packages (from ipykernel>=4.5.1->ipywidgets>=7.0.0->sanddance) (6.0.4)\n",
      "Requirement already satisfied: appnope in /Users/grwheele/.pyenv/versions/3.8.5/lib/python3.8/site-packages (from ipykernel>=4.5.1->ipywidgets>=7.0.0->sanddance) (0.1.0)\n",
      "Requirement already satisfied: pygments in /Users/grwheele/.pyenv/versions/3.8.5/lib/python3.8/site-packages (from ipython>=4.0.0->ipywidgets>=7.0.0->sanddance) (2.6.1)\n",
      "Requirement already satisfied: setuptools>=18.5 in /Users/grwheele/.pyenv/versions/3.8.5/lib/python3.8/site-packages (from ipython>=4.0.0->ipywidgets>=7.0.0->sanddance) (47.1.0)\n",
      "Requirement already satisfied: backcall in /Users/grwheele/.pyenv/versions/3.8.5/lib/python3.8/site-packages (from ipython>=4.0.0->ipywidgets>=7.0.0->sanddance) (0.2.0)\n",
      "Requirement already satisfied: prompt-toolkit!=3.0.0,!=3.0.1,<3.1.0,>=2.0.0 in /Users/grwheele/.pyenv/versions/3.8.5/lib/python3.8/site-packages (from ipython>=4.0.0->ipywidgets>=7.0.0->sanddance) (3.0.5)\n",
      "Requirement already satisfied: jedi>=0.10 in /Users/grwheele/.pyenv/versions/3.8.5/lib/python3.8/site-packages (from ipython>=4.0.0->ipywidgets>=7.0.0->sanddance) (0.17.2)\n",
      "Requirement already satisfied: pexpect in /Users/grwheele/.pyenv/versions/3.8.5/lib/python3.8/site-packages (from ipython>=4.0.0->ipywidgets>=7.0.0->sanddance) (4.8.0)\n",
      "Requirement already satisfied: pickleshare in /Users/grwheele/.pyenv/versions/3.8.5/lib/python3.8/site-packages (from ipython>=4.0.0->ipywidgets>=7.0.0->sanddance) (0.7.5)\n",
      "Requirement already satisfied: decorator in /Users/grwheele/.pyenv/versions/3.8.5/lib/python3.8/site-packages (from ipython>=4.0.0->ipywidgets>=7.0.0->sanddance) (4.4.2)\n",
      "Requirement already satisfied: parso<0.8.0,>=0.7.0 in /Users/grwheele/.pyenv/versions/3.8.5/lib/python3.8/site-packages (from jedi>=0.10->ipython>=4.0.0->ipywidgets>=7.0.0->sanddance) (0.7.1)\n",
      "Requirement already satisfied: ipython-genutils in /Users/grwheele/.pyenv/versions/3.8.5/lib/python3.8/site-packages (from nbformat>=4.2.0->ipywidgets>=7.0.0->sanddance) (0.2.0)\n",
      "Requirement already satisfied: jupyter-core in /Users/grwheele/.pyenv/versions/3.8.5/lib/python3.8/site-packages (from nbformat>=4.2.0->ipywidgets>=7.0.0->sanddance) (4.6.3)\n",
      "Requirement already satisfied: jsonschema!=2.5.0,>=2.4 in /Users/grwheele/.pyenv/versions/3.8.5/lib/python3.8/site-packages (from nbformat>=4.2.0->ipywidgets>=7.0.0->sanddance) (3.2.0)\n",
      "Requirement already satisfied: six>=1.11.0 in /Users/grwheele/.pyenv/versions/3.8.5/lib/python3.8/site-packages (from jsonschema!=2.5.0,>=2.4->nbformat>=4.2.0->ipywidgets>=7.0.0->sanddance) (1.15.0)\n",
      "Requirement already satisfied: attrs>=17.4.0 in /Users/grwheele/.pyenv/versions/3.8.5/lib/python3.8/site-packages (from jsonschema!=2.5.0,>=2.4->nbformat>=4.2.0->ipywidgets>=7.0.0->sanddance) (19.3.0)\n",
      "Requirement already satisfied: pyrsistent>=0.14.0 in /Users/grwheele/.pyenv/versions/3.8.5/lib/python3.8/site-packages (from jsonschema!=2.5.0,>=2.4->nbformat>=4.2.0->ipywidgets>=7.0.0->sanddance) (0.16.0)\n",
      "Requirement already satisfied: pytz>=2017.2 in /Users/grwheele/.pyenv/versions/3.8.5/lib/python3.8/site-packages (from pandas>=1.0.0->sanddance) (2019.1)\n",
      "Requirement already satisfied: python-dateutil>=2.7.3 in /Users/grwheele/.pyenv/versions/3.8.5/lib/python3.8/site-packages (from pandas>=1.0.0->sanddance) (2.8.1)\n",
      "Requirement already satisfied: numpy>=1.15.4 in /Users/grwheele/.pyenv/versions/3.8.5/lib/python3.8/site-packages (from pandas>=1.0.0->sanddance) (1.19.1)\n",
      "Requirement already satisfied: wcwidth in /Users/grwheele/.pyenv/versions/3.8.5/lib/python3.8/site-packages (from prompt-toolkit!=3.0.0,!=3.0.1,<3.1.0,>=2.0.0->ipython>=4.0.0->ipywidgets>=7.0.0->sanddance) (0.2.5)\n",
      "Requirement already satisfied: notebook>=4.4.1 in /Users/grwheele/.pyenv/versions/3.8.5/lib/python3.8/site-packages (from widgetsnbextension~=3.5.0->ipywidgets>=7.0.0->sanddance) (6.1.1)\n",
      "Requirement already satisfied: jinja2 in /Users/grwheele/.pyenv/versions/3.8.5/lib/python3.8/site-packages (from notebook>=4.4.1->widgetsnbextension~=3.5.0->ipywidgets>=7.0.0->sanddance) (2.11.2)\n",
      "Requirement already satisfied: Send2Trash in /Users/grwheele/.pyenv/versions/3.8.5/lib/python3.8/site-packages (from notebook>=4.4.1->widgetsnbextension~=3.5.0->ipywidgets>=7.0.0->sanddance) (1.5.0)\n",
      "Requirement already satisfied: terminado>=0.8.3 in /Users/grwheele/.pyenv/versions/3.8.5/lib/python3.8/site-packages (from notebook>=4.4.1->widgetsnbextension~=3.5.0->ipywidgets>=7.0.0->sanddance) (0.8.3)\n",
      "Requirement already satisfied: pyzmq>=17 in /Users/grwheele/.pyenv/versions/3.8.5/lib/python3.8/site-packages (from notebook>=4.4.1->widgetsnbextension~=3.5.0->ipywidgets>=7.0.0->sanddance) (19.0.2)\n",
      "Requirement already satisfied: prometheus-client in /Users/grwheele/.pyenv/versions/3.8.5/lib/python3.8/site-packages (from notebook>=4.4.1->widgetsnbextension~=3.5.0->ipywidgets>=7.0.0->sanddance) (0.8.0)\n",
      "Requirement already satisfied: nbconvert in /Users/grwheele/.pyenv/versions/3.8.5/lib/python3.8/site-packages (from notebook>=4.4.1->widgetsnbextension~=3.5.0->ipywidgets>=7.0.0->sanddance) (5.6.1)\n",
      "Requirement already satisfied: argon2-cffi in /Users/grwheele/.pyenv/versions/3.8.5/lib/python3.8/site-packages (from notebook>=4.4.1->widgetsnbextension~=3.5.0->ipywidgets>=7.0.0->sanddance) (20.1.0)\n",
      "Requirement already satisfied: ptyprocess in /Users/grwheele/.pyenv/versions/3.8.5/lib/python3.8/site-packages (from terminado>=0.8.3->notebook>=4.4.1->widgetsnbextension~=3.5.0->ipywidgets>=7.0.0->sanddance) (0.6.0)\n",
      "Requirement already satisfied: cffi>=1.0.0 in /Users/grwheele/.pyenv/versions/3.8.5/lib/python3.8/site-packages (from argon2-cffi->notebook>=4.4.1->widgetsnbextension~=3.5.0->ipywidgets>=7.0.0->sanddance) (1.14.1)\n",
      "Requirement already satisfied: pycparser in /Users/grwheele/.pyenv/versions/3.8.5/lib/python3.8/site-packages (from cffi>=1.0.0->argon2-cffi->notebook>=4.4.1->widgetsnbextension~=3.5.0->ipywidgets>=7.0.0->sanddance) (2.20)\n",
      "Requirement already satisfied: MarkupSafe>=0.23 in /Users/grwheele/.pyenv/versions/3.8.5/lib/python3.8/site-packages (from jinja2->notebook>=4.4.1->widgetsnbextension~=3.5.0->ipywidgets>=7.0.0->sanddance) (1.1.1)\n",
      "Requirement already satisfied: pandocfilters>=1.4.1 in /Users/grwheele/.pyenv/versions/3.8.5/lib/python3.8/site-packages (from nbconvert->notebook>=4.4.1->widgetsnbextension~=3.5.0->ipywidgets>=7.0.0->sanddance) (1.4.2)\n",
      "Requirement already satisfied: bleach in /Users/grwheele/.pyenv/versions/3.8.5/lib/python3.8/site-packages (from nbconvert->notebook>=4.4.1->widgetsnbextension~=3.5.0->ipywidgets>=7.0.0->sanddance) (3.1.5)\n",
      "Requirement already satisfied: mistune<2,>=0.8.1 in /Users/grwheele/.pyenv/versions/3.8.5/lib/python3.8/site-packages (from nbconvert->notebook>=4.4.1->widgetsnbextension~=3.5.0->ipywidgets>=7.0.0->sanddance) (0.8.4)\n",
      "Requirement already satisfied: testpath in /Users/grwheele/.pyenv/versions/3.8.5/lib/python3.8/site-packages (from nbconvert->notebook>=4.4.1->widgetsnbextension~=3.5.0->ipywidgets>=7.0.0->sanddance) (0.4.4)\n",
      "Requirement already satisfied: entrypoints>=0.2.2 in /Users/grwheele/.pyenv/versions/3.8.5/lib/python3.8/site-packages (from nbconvert->notebook>=4.4.1->widgetsnbextension~=3.5.0->ipywidgets>=7.0.0->sanddance) (0.3)\n",
      "Requirement already satisfied: defusedxml in /Users/grwheele/.pyenv/versions/3.8.5/lib/python3.8/site-packages (from nbconvert->notebook>=4.4.1->widgetsnbextension~=3.5.0->ipywidgets>=7.0.0->sanddance) (0.6.0)\n",
      "Requirement already satisfied: packaging in /Users/grwheele/.pyenv/versions/3.8.5/lib/python3.8/site-packages (from bleach->nbconvert->notebook>=4.4.1->widgetsnbextension~=3.5.0->ipywidgets>=7.0.0->sanddance) (20.4)\n",
      "Requirement already satisfied: webencodings in /Users/grwheele/.pyenv/versions/3.8.5/lib/python3.8/site-packages (from bleach->nbconvert->notebook>=4.4.1->widgetsnbextension~=3.5.0->ipywidgets>=7.0.0->sanddance) (0.5.1)\n",
      "Requirement already satisfied: pyparsing>=2.0.2 in /Users/grwheele/.pyenv/versions/3.8.5/lib/python3.8/site-packages (from packaging->bleach->nbconvert->notebook>=4.4.1->widgetsnbextension~=3.5.0->ipywidgets>=7.0.0->sanddance) (2.4.7)\n"
     ]
    }
   ],
   "source": [
    "!pip install sanddance"
   ]
  },
  {
   "cell_type": "code",
   "execution_count": 2,
   "metadata": {},
   "outputs": [
    {
     "data": {
      "application/vnd.jupyter.widget-view+json": {
       "model_id": "b6399f224f5e45389215b4272b30ded3",
       "version_major": 2,
       "version_minor": 0
      },
      "text/plain": "Explorer()"
     },
     "metadata": {
      "transient": {}
     },
     "output_type": "display_data"
    }
   ],
   "source": [
    "import pandas as pd\n",
    "from sanddance import Explorer\n",
    "sd = Explorer()\n",
    "sd.show()\n",
    "\n",
    "df = pd.DataFrame([\n",
    "    {'x': 1, 'y': 1, 'text': 'first'},\n",
    "    {'x': 2, 'y': 2, 'text': 'second'},\n",
    "    {'x': 3, 'y': 3, 'text': 'third'},\n",
    "])\n",
    "sd.load(df)"
   ]
  },
  {
   "cell_type": "code",
   "execution_count": null,
   "metadata": {},
   "outputs": [],
   "source": []
  }
 ],
 "metadata": {
  "kernelspec": {
   "display_name": "Python 3",
   "language": "python",
   "name": "python3"
  },
  "language_info": {
   "codemirror_mode": {
    "name": "ipython",
    "version": 3
   },
   "file_extension": ".py",
   "mimetype": "text/x-python",
   "name": "python",
   "nbconvert_exporter": "python",
   "pygments_lexer": "ipython3",
   "version": "3.8.5"
  },
  "orig_nbformat": 2
 },
 "nbformat": 4,
 "nbformat_minor": 2
}