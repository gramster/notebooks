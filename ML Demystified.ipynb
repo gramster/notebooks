{
 "cells": [
  {
   "cell_type": "markdown",
   "metadata": {
    "slideshow": {
     "slide_type": "slide"
    }
   },
   "source": [
    "# Agenda\n",
    "\n",
    "- types of learning - supervised vs unsupervised\n",
    "- cleaning and encoding data\n",
    "- exploratory analysis\n",
    "- training vs test data\n",
    "- evaluating models\n",
    "- feature engineering and synthesis\n",
    "- pitfalls and trade-offs\n",
    "- tuning and improving results\n",
    "- interpreting results\n",
    "- deep learning - why the hype?\n",
    "\n",
    "while illustrating the workflow of an ML practitioner. In 30 minutes - whew!"
   ]
  },
  {
   "cell_type": "markdown",
   "metadata": {
    "slideshow": {
     "slide_type": "skip"
    }
   },
   "source": [
    "# Why Me?\n",
    "\n",
    "- several years experience as a data science practitioner, tool builder, and manager\n",
    "- I am _not_ a stats Ph.D. or researcher - but I have some real world experience from eBay (measured in hundreds of millions of dollars GMV impact - mostly positive :-))"
   ]
  },
  {
   "cell_type": "markdown",
   "metadata": {
    "slideshow": {
     "slide_type": "slide"
    }
   },
   "source": [
    "*__Machine Learning__ is the process of algorithmically building models from data, either to gain insight into the data or to make predictions for __new__ data (generalization).*\n",
    "\n",
    "If we didn't need to generalize to new cases we could just use a hash table."
   ]
  },
  {
   "cell_type": "markdown",
   "metadata": {
    "slideshow": {
     "slide_type": "slide"
    }
   },
   "source": [
    "## Supervised Learning\n",
    "\n",
    "The _corpus_ or data (training data) is labeled with a known outcome (this is the supervision part), and the aim is to predict new outcomes from new data.\n",
    "\n",
    "- if the outcome is a category this is _classification_ (_binary classification_ if two classes). Output may be a single class or a set of probabilities.\n",
    "- if the outcome is a continuous quantity this is _regression_\n"
   ]
  },
  {
   "cell_type": "markdown",
   "metadata": {
    "slideshow": {
     "slide_type": "slide"
    }
   },
   "source": [
    "## Unsupervised Learning\n",
    "\n",
    "The data is analyzed for underlying patterns to gain insight, such as:\n",
    "\n",
    "- _clustering_ - finding similar cases based on some _distance metric_ (e.g. recommendations)\n",
    "- _outlier detection_ or _anomaly detection_ - finding unusual cases (e.g. fraud detection)\n",
    "- _dimensionality reduction_ - reducing the number of variables needed to represent the data, essentially a form of lossy compression"
   ]
  },
  {
   "cell_type": "markdown",
   "metadata": {
    "slideshow": {
     "slide_type": "slide"
    }
   },
   "source": [
    "# ML Input \n",
    "\n",
    "The data used in ML is typically tabular:\n",
    "\n",
    "- columns are called *features* and the output column (if any) the *target* or *label*. \n",
    "- rows are *instances* or *observations*\n"
   ]
  },
  {
   "cell_type": "code",
   "execution_count": 2,
   "metadata": {
    "slideshow": {
     "slide_type": "skip"
    }
   },
   "outputs": [],
   "source": [
    "%matplotlib inline\n",
    "import seaborn as sns; \n",
    "#sns.set(style=\"ticks\", color_codes=True)\n"
   ]
  },
  {
   "cell_type": "code",
   "execution_count": 12,
   "metadata": {
    "slideshow": {
     "slide_type": "skip"
    }
   },
   "outputs": [],
   "source": [
    "import pandas as pd\n",
    "titanic = pd.read_excel('http://biostat.mc.vanderbilt.edu/wiki/pub/Main/DataSets/titanic3.xls')\n",
    "for k in [\"sibsp\", \"parch\", \"ticket\", \"fare\", \"embarked\", \"boat\", \"body\", \"home.dest\"]:\n",
    "    del titanic[k]\n"
   ]
  },
  {
   "cell_type": "code",
   "execution_count": 13,
   "metadata": {
    "slideshow": {
     "slide_type": "fragment"
    }
   },
   "outputs": [
    {
     "data": {
      "text/html": [
       "<div>\n",
       "<style scoped>\n",
       "    .dataframe tbody tr th:only-of-type {\n",
       "        vertical-align: middle;\n",
       "    }\n",
       "\n",
       "    .dataframe tbody tr th {\n",
       "        vertical-align: top;\n",
       "    }\n",
       "\n",
       "    .dataframe thead th {\n",
       "        text-align: right;\n",
       "    }\n",
       "</style>\n",
       "<table border=\"1\" class=\"dataframe\">\n",
       "  <thead>\n",
       "    <tr style=\"text-align: right;\">\n",
       "      <th></th>\n",
       "      <th>pclass</th>\n",
       "      <th>survived</th>\n",
       "      <th>name</th>\n",
       "      <th>sex</th>\n",
       "      <th>age</th>\n",
       "      <th>cabin</th>\n",
       "    </tr>\n",
       "  </thead>\n",
       "  <tbody>\n",
       "    <tr>\n",
       "      <th>0</th>\n",
       "      <td>1</td>\n",
       "      <td>1</td>\n",
       "      <td>Allen, Miss. Elisabeth Walton</td>\n",
       "      <td>female</td>\n",
       "      <td>29.0000</td>\n",
       "      <td>B5</td>\n",
       "    </tr>\n",
       "    <tr>\n",
       "      <th>1</th>\n",
       "      <td>1</td>\n",
       "      <td>1</td>\n",
       "      <td>Allison, Master. Hudson Trevor</td>\n",
       "      <td>male</td>\n",
       "      <td>0.9167</td>\n",
       "      <td>C22 C26</td>\n",
       "    </tr>\n",
       "    <tr>\n",
       "      <th>2</th>\n",
       "      <td>1</td>\n",
       "      <td>0</td>\n",
       "      <td>Allison, Miss. Helen Loraine</td>\n",
       "      <td>female</td>\n",
       "      <td>2.0000</td>\n",
       "      <td>C22 C26</td>\n",
       "    </tr>\n",
       "    <tr>\n",
       "      <th>3</th>\n",
       "      <td>1</td>\n",
       "      <td>0</td>\n",
       "      <td>Allison, Mr. Hudson Joshua Creighton</td>\n",
       "      <td>male</td>\n",
       "      <td>30.0000</td>\n",
       "      <td>C22 C26</td>\n",
       "    </tr>\n",
       "    <tr>\n",
       "      <th>4</th>\n",
       "      <td>1</td>\n",
       "      <td>0</td>\n",
       "      <td>Allison, Mrs. Hudson J C (Bessie Waldo Daniels)</td>\n",
       "      <td>female</td>\n",
       "      <td>25.0000</td>\n",
       "      <td>C22 C26</td>\n",
       "    </tr>\n",
       "    <tr>\n",
       "      <th>5</th>\n",
       "      <td>1</td>\n",
       "      <td>1</td>\n",
       "      <td>Anderson, Mr. Harry</td>\n",
       "      <td>male</td>\n",
       "      <td>48.0000</td>\n",
       "      <td>E12</td>\n",
       "    </tr>\n",
       "    <tr>\n",
       "      <th>6</th>\n",
       "      <td>1</td>\n",
       "      <td>1</td>\n",
       "      <td>Andrews, Miss. Kornelia Theodosia</td>\n",
       "      <td>female</td>\n",
       "      <td>63.0000</td>\n",
       "      <td>D7</td>\n",
       "    </tr>\n",
       "    <tr>\n",
       "      <th>7</th>\n",
       "      <td>1</td>\n",
       "      <td>0</td>\n",
       "      <td>Andrews, Mr. Thomas Jr</td>\n",
       "      <td>male</td>\n",
       "      <td>39.0000</td>\n",
       "      <td>A36</td>\n",
       "    </tr>\n",
       "    <tr>\n",
       "      <th>8</th>\n",
       "      <td>1</td>\n",
       "      <td>1</td>\n",
       "      <td>Appleton, Mrs. Edward Dale (Charlotte Lamson)</td>\n",
       "      <td>female</td>\n",
       "      <td>53.0000</td>\n",
       "      <td>C101</td>\n",
       "    </tr>\n",
       "    <tr>\n",
       "      <th>9</th>\n",
       "      <td>1</td>\n",
       "      <td>0</td>\n",
       "      <td>Artagaveytia, Mr. Ramon</td>\n",
       "      <td>male</td>\n",
       "      <td>71.0000</td>\n",
       "      <td>NaN</td>\n",
       "    </tr>\n",
       "    <tr>\n",
       "      <th>10</th>\n",
       "      <td>1</td>\n",
       "      <td>0</td>\n",
       "      <td>Astor, Col. John Jacob</td>\n",
       "      <td>male</td>\n",
       "      <td>47.0000</td>\n",
       "      <td>C62 C64</td>\n",
       "    </tr>\n",
       "    <tr>\n",
       "      <th>11</th>\n",
       "      <td>1</td>\n",
       "      <td>1</td>\n",
       "      <td>Astor, Mrs. John Jacob (Madeleine Talmadge Force)</td>\n",
       "      <td>female</td>\n",
       "      <td>18.0000</td>\n",
       "      <td>C62 C64</td>\n",
       "    </tr>\n",
       "    <tr>\n",
       "      <th>12</th>\n",
       "      <td>1</td>\n",
       "      <td>1</td>\n",
       "      <td>Aubart, Mme. Leontine Pauline</td>\n",
       "      <td>female</td>\n",
       "      <td>24.0000</td>\n",
       "      <td>B35</td>\n",
       "    </tr>\n",
       "    <tr>\n",
       "      <th>13</th>\n",
       "      <td>1</td>\n",
       "      <td>1</td>\n",
       "      <td>Barber, Miss. Ellen \"Nellie\"</td>\n",
       "      <td>female</td>\n",
       "      <td>26.0000</td>\n",
       "      <td>NaN</td>\n",
       "    </tr>\n",
       "    <tr>\n",
       "      <th>14</th>\n",
       "      <td>1</td>\n",
       "      <td>1</td>\n",
       "      <td>Barkworth, Mr. Algernon Henry Wilson</td>\n",
       "      <td>male</td>\n",
       "      <td>80.0000</td>\n",
       "      <td>A23</td>\n",
       "    </tr>\n",
       "    <tr>\n",
       "      <th>15</th>\n",
       "      <td>1</td>\n",
       "      <td>0</td>\n",
       "      <td>Baumann, Mr. John D</td>\n",
       "      <td>male</td>\n",
       "      <td>NaN</td>\n",
       "      <td>NaN</td>\n",
       "    </tr>\n",
       "    <tr>\n",
       "      <th>16</th>\n",
       "      <td>1</td>\n",
       "      <td>0</td>\n",
       "      <td>Baxter, Mr. Quigg Edmond</td>\n",
       "      <td>male</td>\n",
       "      <td>24.0000</td>\n",
       "      <td>B58 B60</td>\n",
       "    </tr>\n",
       "    <tr>\n",
       "      <th>17</th>\n",
       "      <td>1</td>\n",
       "      <td>1</td>\n",
       "      <td>Baxter, Mrs. James (Helene DeLaudeniere Chaput)</td>\n",
       "      <td>female</td>\n",
       "      <td>50.0000</td>\n",
       "      <td>B58 B60</td>\n",
       "    </tr>\n",
       "    <tr>\n",
       "      <th>18</th>\n",
       "      <td>1</td>\n",
       "      <td>1</td>\n",
       "      <td>Bazzani, Miss. Albina</td>\n",
       "      <td>female</td>\n",
       "      <td>32.0000</td>\n",
       "      <td>D15</td>\n",
       "    </tr>\n",
       "    <tr>\n",
       "      <th>19</th>\n",
       "      <td>1</td>\n",
       "      <td>0</td>\n",
       "      <td>Beattie, Mr. Thomson</td>\n",
       "      <td>male</td>\n",
       "      <td>36.0000</td>\n",
       "      <td>C6</td>\n",
       "    </tr>\n",
       "    <tr>\n",
       "      <th>20</th>\n",
       "      <td>1</td>\n",
       "      <td>1</td>\n",
       "      <td>Beckwith, Mr. Richard Leonard</td>\n",
       "      <td>male</td>\n",
       "      <td>37.0000</td>\n",
       "      <td>D35</td>\n",
       "    </tr>\n",
       "    <tr>\n",
       "      <th>21</th>\n",
       "      <td>1</td>\n",
       "      <td>1</td>\n",
       "      <td>Beckwith, Mrs. Richard Leonard (Sallie Monypeny)</td>\n",
       "      <td>female</td>\n",
       "      <td>47.0000</td>\n",
       "      <td>D35</td>\n",
       "    </tr>\n",
       "    <tr>\n",
       "      <th>22</th>\n",
       "      <td>1</td>\n",
       "      <td>1</td>\n",
       "      <td>Behr, Mr. Karl Howell</td>\n",
       "      <td>male</td>\n",
       "      <td>26.0000</td>\n",
       "      <td>C148</td>\n",
       "    </tr>\n",
       "    <tr>\n",
       "      <th>23</th>\n",
       "      <td>1</td>\n",
       "      <td>1</td>\n",
       "      <td>Bidois, Miss. Rosalie</td>\n",
       "      <td>female</td>\n",
       "      <td>42.0000</td>\n",
       "      <td>NaN</td>\n",
       "    </tr>\n",
       "    <tr>\n",
       "      <th>24</th>\n",
       "      <td>1</td>\n",
       "      <td>1</td>\n",
       "      <td>Bird, Miss. Ellen</td>\n",
       "      <td>female</td>\n",
       "      <td>29.0000</td>\n",
       "      <td>C97</td>\n",
       "    </tr>\n",
       "    <tr>\n",
       "      <th>25</th>\n",
       "      <td>1</td>\n",
       "      <td>0</td>\n",
       "      <td>Birnbaum, Mr. Jakob</td>\n",
       "      <td>male</td>\n",
       "      <td>25.0000</td>\n",
       "      <td>NaN</td>\n",
       "    </tr>\n",
       "    <tr>\n",
       "      <th>26</th>\n",
       "      <td>1</td>\n",
       "      <td>1</td>\n",
       "      <td>Bishop, Mr. Dickinson H</td>\n",
       "      <td>male</td>\n",
       "      <td>25.0000</td>\n",
       "      <td>B49</td>\n",
       "    </tr>\n",
       "    <tr>\n",
       "      <th>27</th>\n",
       "      <td>1</td>\n",
       "      <td>1</td>\n",
       "      <td>Bishop, Mrs. Dickinson H (Helen Walton)</td>\n",
       "      <td>female</td>\n",
       "      <td>19.0000</td>\n",
       "      <td>B49</td>\n",
       "    </tr>\n",
       "    <tr>\n",
       "      <th>28</th>\n",
       "      <td>1</td>\n",
       "      <td>1</td>\n",
       "      <td>Bissette, Miss. Amelia</td>\n",
       "      <td>female</td>\n",
       "      <td>35.0000</td>\n",
       "      <td>C99</td>\n",
       "    </tr>\n",
       "    <tr>\n",
       "      <th>29</th>\n",
       "      <td>1</td>\n",
       "      <td>1</td>\n",
       "      <td>Bjornstrom-Steffansson, Mr. Mauritz Hakan</td>\n",
       "      <td>male</td>\n",
       "      <td>28.0000</td>\n",
       "      <td>C52</td>\n",
       "    </tr>\n",
       "    <tr>\n",
       "      <th>...</th>\n",
       "      <td>...</td>\n",
       "      <td>...</td>\n",
       "      <td>...</td>\n",
       "      <td>...</td>\n",
       "      <td>...</td>\n",
       "      <td>...</td>\n",
       "    </tr>\n",
       "    <tr>\n",
       "      <th>1279</th>\n",
       "      <td>3</td>\n",
       "      <td>0</td>\n",
       "      <td>Vestrom, Miss. Hulda Amanda Adolfina</td>\n",
       "      <td>female</td>\n",
       "      <td>14.0000</td>\n",
       "      <td>NaN</td>\n",
       "    </tr>\n",
       "    <tr>\n",
       "      <th>1280</th>\n",
       "      <td>3</td>\n",
       "      <td>0</td>\n",
       "      <td>Vovk, Mr. Janko</td>\n",
       "      <td>male</td>\n",
       "      <td>22.0000</td>\n",
       "      <td>NaN</td>\n",
       "    </tr>\n",
       "    <tr>\n",
       "      <th>1281</th>\n",
       "      <td>3</td>\n",
       "      <td>0</td>\n",
       "      <td>Waelens, Mr. Achille</td>\n",
       "      <td>male</td>\n",
       "      <td>22.0000</td>\n",
       "      <td>NaN</td>\n",
       "    </tr>\n",
       "    <tr>\n",
       "      <th>1282</th>\n",
       "      <td>3</td>\n",
       "      <td>0</td>\n",
       "      <td>Ware, Mr. Frederick</td>\n",
       "      <td>male</td>\n",
       "      <td>NaN</td>\n",
       "      <td>NaN</td>\n",
       "    </tr>\n",
       "    <tr>\n",
       "      <th>1283</th>\n",
       "      <td>3</td>\n",
       "      <td>0</td>\n",
       "      <td>Warren, Mr. Charles William</td>\n",
       "      <td>male</td>\n",
       "      <td>NaN</td>\n",
       "      <td>NaN</td>\n",
       "    </tr>\n",
       "    <tr>\n",
       "      <th>1284</th>\n",
       "      <td>3</td>\n",
       "      <td>0</td>\n",
       "      <td>Webber, Mr. James</td>\n",
       "      <td>male</td>\n",
       "      <td>NaN</td>\n",
       "      <td>NaN</td>\n",
       "    </tr>\n",
       "    <tr>\n",
       "      <th>1285</th>\n",
       "      <td>3</td>\n",
       "      <td>0</td>\n",
       "      <td>Wenzel, Mr. Linhart</td>\n",
       "      <td>male</td>\n",
       "      <td>32.5000</td>\n",
       "      <td>NaN</td>\n",
       "    </tr>\n",
       "    <tr>\n",
       "      <th>1286</th>\n",
       "      <td>3</td>\n",
       "      <td>1</td>\n",
       "      <td>Whabee, Mrs. George Joseph (Shawneene Abi-Saab)</td>\n",
       "      <td>female</td>\n",
       "      <td>38.0000</td>\n",
       "      <td>NaN</td>\n",
       "    </tr>\n",
       "    <tr>\n",
       "      <th>1287</th>\n",
       "      <td>3</td>\n",
       "      <td>0</td>\n",
       "      <td>Widegren, Mr. Carl/Charles Peter</td>\n",
       "      <td>male</td>\n",
       "      <td>51.0000</td>\n",
       "      <td>NaN</td>\n",
       "    </tr>\n",
       "    <tr>\n",
       "      <th>1288</th>\n",
       "      <td>3</td>\n",
       "      <td>0</td>\n",
       "      <td>Wiklund, Mr. Jakob Alfred</td>\n",
       "      <td>male</td>\n",
       "      <td>18.0000</td>\n",
       "      <td>NaN</td>\n",
       "    </tr>\n",
       "    <tr>\n",
       "      <th>1289</th>\n",
       "      <td>3</td>\n",
       "      <td>0</td>\n",
       "      <td>Wiklund, Mr. Karl Johan</td>\n",
       "      <td>male</td>\n",
       "      <td>21.0000</td>\n",
       "      <td>NaN</td>\n",
       "    </tr>\n",
       "    <tr>\n",
       "      <th>1290</th>\n",
       "      <td>3</td>\n",
       "      <td>1</td>\n",
       "      <td>Wilkes, Mrs. James (Ellen Needs)</td>\n",
       "      <td>female</td>\n",
       "      <td>47.0000</td>\n",
       "      <td>NaN</td>\n",
       "    </tr>\n",
       "    <tr>\n",
       "      <th>1291</th>\n",
       "      <td>3</td>\n",
       "      <td>0</td>\n",
       "      <td>Willer, Mr. Aaron (\"Abi Weller\")</td>\n",
       "      <td>male</td>\n",
       "      <td>NaN</td>\n",
       "      <td>NaN</td>\n",
       "    </tr>\n",
       "    <tr>\n",
       "      <th>1292</th>\n",
       "      <td>3</td>\n",
       "      <td>0</td>\n",
       "      <td>Willey, Mr. Edward</td>\n",
       "      <td>male</td>\n",
       "      <td>NaN</td>\n",
       "      <td>NaN</td>\n",
       "    </tr>\n",
       "    <tr>\n",
       "      <th>1293</th>\n",
       "      <td>3</td>\n",
       "      <td>0</td>\n",
       "      <td>Williams, Mr. Howard Hugh \"Harry\"</td>\n",
       "      <td>male</td>\n",
       "      <td>NaN</td>\n",
       "      <td>NaN</td>\n",
       "    </tr>\n",
       "    <tr>\n",
       "      <th>1294</th>\n",
       "      <td>3</td>\n",
       "      <td>0</td>\n",
       "      <td>Williams, Mr. Leslie</td>\n",
       "      <td>male</td>\n",
       "      <td>28.5000</td>\n",
       "      <td>NaN</td>\n",
       "    </tr>\n",
       "    <tr>\n",
       "      <th>1295</th>\n",
       "      <td>3</td>\n",
       "      <td>0</td>\n",
       "      <td>Windelov, Mr. Einar</td>\n",
       "      <td>male</td>\n",
       "      <td>21.0000</td>\n",
       "      <td>NaN</td>\n",
       "    </tr>\n",
       "    <tr>\n",
       "      <th>1296</th>\n",
       "      <td>3</td>\n",
       "      <td>0</td>\n",
       "      <td>Wirz, Mr. Albert</td>\n",
       "      <td>male</td>\n",
       "      <td>27.0000</td>\n",
       "      <td>NaN</td>\n",
       "    </tr>\n",
       "    <tr>\n",
       "      <th>1297</th>\n",
       "      <td>3</td>\n",
       "      <td>0</td>\n",
       "      <td>Wiseman, Mr. Phillippe</td>\n",
       "      <td>male</td>\n",
       "      <td>NaN</td>\n",
       "      <td>NaN</td>\n",
       "    </tr>\n",
       "    <tr>\n",
       "      <th>1298</th>\n",
       "      <td>3</td>\n",
       "      <td>0</td>\n",
       "      <td>Wittevrongel, Mr. Camille</td>\n",
       "      <td>male</td>\n",
       "      <td>36.0000</td>\n",
       "      <td>NaN</td>\n",
       "    </tr>\n",
       "    <tr>\n",
       "      <th>1299</th>\n",
       "      <td>3</td>\n",
       "      <td>0</td>\n",
       "      <td>Yasbeck, Mr. Antoni</td>\n",
       "      <td>male</td>\n",
       "      <td>27.0000</td>\n",
       "      <td>NaN</td>\n",
       "    </tr>\n",
       "    <tr>\n",
       "      <th>1300</th>\n",
       "      <td>3</td>\n",
       "      <td>1</td>\n",
       "      <td>Yasbeck, Mrs. Antoni (Selini Alexander)</td>\n",
       "      <td>female</td>\n",
       "      <td>15.0000</td>\n",
       "      <td>NaN</td>\n",
       "    </tr>\n",
       "    <tr>\n",
       "      <th>1301</th>\n",
       "      <td>3</td>\n",
       "      <td>0</td>\n",
       "      <td>Youseff, Mr. Gerious</td>\n",
       "      <td>male</td>\n",
       "      <td>45.5000</td>\n",
       "      <td>NaN</td>\n",
       "    </tr>\n",
       "    <tr>\n",
       "      <th>1302</th>\n",
       "      <td>3</td>\n",
       "      <td>0</td>\n",
       "      <td>Yousif, Mr. Wazli</td>\n",
       "      <td>male</td>\n",
       "      <td>NaN</td>\n",
       "      <td>NaN</td>\n",
       "    </tr>\n",
       "    <tr>\n",
       "      <th>1303</th>\n",
       "      <td>3</td>\n",
       "      <td>0</td>\n",
       "      <td>Yousseff, Mr. Gerious</td>\n",
       "      <td>male</td>\n",
       "      <td>NaN</td>\n",
       "      <td>NaN</td>\n",
       "    </tr>\n",
       "    <tr>\n",
       "      <th>1304</th>\n",
       "      <td>3</td>\n",
       "      <td>0</td>\n",
       "      <td>Zabour, Miss. Hileni</td>\n",
       "      <td>female</td>\n",
       "      <td>14.5000</td>\n",
       "      <td>NaN</td>\n",
       "    </tr>\n",
       "    <tr>\n",
       "      <th>1305</th>\n",
       "      <td>3</td>\n",
       "      <td>0</td>\n",
       "      <td>Zabour, Miss. Thamine</td>\n",
       "      <td>female</td>\n",
       "      <td>NaN</td>\n",
       "      <td>NaN</td>\n",
       "    </tr>\n",
       "    <tr>\n",
       "      <th>1306</th>\n",
       "      <td>3</td>\n",
       "      <td>0</td>\n",
       "      <td>Zakarian, Mr. Mapriededer</td>\n",
       "      <td>male</td>\n",
       "      <td>26.5000</td>\n",
       "      <td>NaN</td>\n",
       "    </tr>\n",
       "    <tr>\n",
       "      <th>1307</th>\n",
       "      <td>3</td>\n",
       "      <td>0</td>\n",
       "      <td>Zakarian, Mr. Ortin</td>\n",
       "      <td>male</td>\n",
       "      <td>27.0000</td>\n",
       "      <td>NaN</td>\n",
       "    </tr>\n",
       "    <tr>\n",
       "      <th>1308</th>\n",
       "      <td>3</td>\n",
       "      <td>0</td>\n",
       "      <td>Zimmerman, Mr. Leo</td>\n",
       "      <td>male</td>\n",
       "      <td>29.0000</td>\n",
       "      <td>NaN</td>\n",
       "    </tr>\n",
       "  </tbody>\n",
       "</table>\n",
       "<p>1309 rows × 6 columns</p>\n",
       "</div>"
      ],
      "text/plain": [
       "      pclass  survived                                               name  \\\n",
       "0          1         1                      Allen, Miss. Elisabeth Walton   \n",
       "1          1         1                     Allison, Master. Hudson Trevor   \n",
       "2          1         0                       Allison, Miss. Helen Loraine   \n",
       "3          1         0               Allison, Mr. Hudson Joshua Creighton   \n",
       "4          1         0    Allison, Mrs. Hudson J C (Bessie Waldo Daniels)   \n",
       "5          1         1                                Anderson, Mr. Harry   \n",
       "6          1         1                  Andrews, Miss. Kornelia Theodosia   \n",
       "7          1         0                             Andrews, Mr. Thomas Jr   \n",
       "8          1         1      Appleton, Mrs. Edward Dale (Charlotte Lamson)   \n",
       "9          1         0                            Artagaveytia, Mr. Ramon   \n",
       "10         1         0                             Astor, Col. John Jacob   \n",
       "11         1         1  Astor, Mrs. John Jacob (Madeleine Talmadge Force)   \n",
       "12         1         1                      Aubart, Mme. Leontine Pauline   \n",
       "13         1         1                       Barber, Miss. Ellen \"Nellie\"   \n",
       "14         1         1               Barkworth, Mr. Algernon Henry Wilson   \n",
       "15         1         0                                Baumann, Mr. John D   \n",
       "16         1         0                           Baxter, Mr. Quigg Edmond   \n",
       "17         1         1    Baxter, Mrs. James (Helene DeLaudeniere Chaput)   \n",
       "18         1         1                              Bazzani, Miss. Albina   \n",
       "19         1         0                               Beattie, Mr. Thomson   \n",
       "20         1         1                      Beckwith, Mr. Richard Leonard   \n",
       "21         1         1   Beckwith, Mrs. Richard Leonard (Sallie Monypeny)   \n",
       "22         1         1                              Behr, Mr. Karl Howell   \n",
       "23         1         1                              Bidois, Miss. Rosalie   \n",
       "24         1         1                                  Bird, Miss. Ellen   \n",
       "25         1         0                                Birnbaum, Mr. Jakob   \n",
       "26         1         1                            Bishop, Mr. Dickinson H   \n",
       "27         1         1            Bishop, Mrs. Dickinson H (Helen Walton)   \n",
       "28         1         1                             Bissette, Miss. Amelia   \n",
       "29         1         1          Bjornstrom-Steffansson, Mr. Mauritz Hakan   \n",
       "...      ...       ...                                                ...   \n",
       "1279       3         0               Vestrom, Miss. Hulda Amanda Adolfina   \n",
       "1280       3         0                                    Vovk, Mr. Janko   \n",
       "1281       3         0                               Waelens, Mr. Achille   \n",
       "1282       3         0                                Ware, Mr. Frederick   \n",
       "1283       3         0                        Warren, Mr. Charles William   \n",
       "1284       3         0                                  Webber, Mr. James   \n",
       "1285       3         0                                Wenzel, Mr. Linhart   \n",
       "1286       3         1    Whabee, Mrs. George Joseph (Shawneene Abi-Saab)   \n",
       "1287       3         0                   Widegren, Mr. Carl/Charles Peter   \n",
       "1288       3         0                          Wiklund, Mr. Jakob Alfred   \n",
       "1289       3         0                            Wiklund, Mr. Karl Johan   \n",
       "1290       3         1                   Wilkes, Mrs. James (Ellen Needs)   \n",
       "1291       3         0                   Willer, Mr. Aaron (\"Abi Weller\")   \n",
       "1292       3         0                                 Willey, Mr. Edward   \n",
       "1293       3         0                  Williams, Mr. Howard Hugh \"Harry\"   \n",
       "1294       3         0                               Williams, Mr. Leslie   \n",
       "1295       3         0                                Windelov, Mr. Einar   \n",
       "1296       3         0                                   Wirz, Mr. Albert   \n",
       "1297       3         0                             Wiseman, Mr. Phillippe   \n",
       "1298       3         0                          Wittevrongel, Mr. Camille   \n",
       "1299       3         0                                Yasbeck, Mr. Antoni   \n",
       "1300       3         1            Yasbeck, Mrs. Antoni (Selini Alexander)   \n",
       "1301       3         0                               Youseff, Mr. Gerious   \n",
       "1302       3         0                                  Yousif, Mr. Wazli   \n",
       "1303       3         0                              Yousseff, Mr. Gerious   \n",
       "1304       3         0                               Zabour, Miss. Hileni   \n",
       "1305       3         0                              Zabour, Miss. Thamine   \n",
       "1306       3         0                          Zakarian, Mr. Mapriededer   \n",
       "1307       3         0                                Zakarian, Mr. Ortin   \n",
       "1308       3         0                                 Zimmerman, Mr. Leo   \n",
       "\n",
       "         sex      age    cabin  \n",
       "0     female  29.0000       B5  \n",
       "1       male   0.9167  C22 C26  \n",
       "2     female   2.0000  C22 C26  \n",
       "3       male  30.0000  C22 C26  \n",
       "4     female  25.0000  C22 C26  \n",
       "5       male  48.0000      E12  \n",
       "6     female  63.0000       D7  \n",
       "7       male  39.0000      A36  \n",
       "8     female  53.0000     C101  \n",
       "9       male  71.0000      NaN  \n",
       "10      male  47.0000  C62 C64  \n",
       "11    female  18.0000  C62 C64  \n",
       "12    female  24.0000      B35  \n",
       "13    female  26.0000      NaN  \n",
       "14      male  80.0000      A23  \n",
       "15      male      NaN      NaN  \n",
       "16      male  24.0000  B58 B60  \n",
       "17    female  50.0000  B58 B60  \n",
       "18    female  32.0000      D15  \n",
       "19      male  36.0000       C6  \n",
       "20      male  37.0000      D35  \n",
       "21    female  47.0000      D35  \n",
       "22      male  26.0000     C148  \n",
       "23    female  42.0000      NaN  \n",
       "24    female  29.0000      C97  \n",
       "25      male  25.0000      NaN  \n",
       "26      male  25.0000      B49  \n",
       "27    female  19.0000      B49  \n",
       "28    female  35.0000      C99  \n",
       "29      male  28.0000      C52  \n",
       "...      ...      ...      ...  \n",
       "1279  female  14.0000      NaN  \n",
       "1280    male  22.0000      NaN  \n",
       "1281    male  22.0000      NaN  \n",
       "1282    male      NaN      NaN  \n",
       "1283    male      NaN      NaN  \n",
       "1284    male      NaN      NaN  \n",
       "1285    male  32.5000      NaN  \n",
       "1286  female  38.0000      NaN  \n",
       "1287    male  51.0000      NaN  \n",
       "1288    male  18.0000      NaN  \n",
       "1289    male  21.0000      NaN  \n",
       "1290  female  47.0000      NaN  \n",
       "1291    male      NaN      NaN  \n",
       "1292    male      NaN      NaN  \n",
       "1293    male      NaN      NaN  \n",
       "1294    male  28.5000      NaN  \n",
       "1295    male  21.0000      NaN  \n",
       "1296    male  27.0000      NaN  \n",
       "1297    male      NaN      NaN  \n",
       "1298    male  36.0000      NaN  \n",
       "1299    male  27.0000      NaN  \n",
       "1300  female  15.0000      NaN  \n",
       "1301    male  45.5000      NaN  \n",
       "1302    male      NaN      NaN  \n",
       "1303    male      NaN      NaN  \n",
       "1304  female  14.5000      NaN  \n",
       "1305  female      NaN      NaN  \n",
       "1306    male  26.5000      NaN  \n",
       "1307    male  27.0000      NaN  \n",
       "1308    male  29.0000      NaN  \n",
       "\n",
       "[1309 rows x 6 columns]"
      ]
     },
     "execution_count": 13,
     "metadata": {},
     "output_type": "execute_result"
    }
   ],
   "source": [
    "titanic"
   ]
  },
  {
   "cell_type": "markdown",
   "metadata": {
    "slideshow": {
     "slide_type": "slide"
    }
   },
   "source": [
    "# Models\n",
    "\n",
    "We'll often refer to the features of an observation as a vector __`X`__ and the target as `y`\n",
    "and say that we're trying to find a function or _model_ `f` that approximates `f(`__`X`__`) = y`\n",
    "\n",
    "Once found, the model is characterized by some *model parameters*.\n",
    "\n",
    "E.g. in _linear regression_ the model will have the form `f(X)=M.X + c` where the vector `M` and constant `c` are the learned parameters.\n",
    "\n",
    "We usually choose the type or class of model, and then use ML techniques to learn the model parameters that minimize the *error* (the difference between the predicted and actual output). "
   ]
  },
  {
   "cell_type": "markdown",
   "metadata": {
    "slideshow": {
     "slide_type": "slide"
    }
   },
   "source": [
    "# Loss Functions\n",
    "\n",
    "More generally we can think of this as an optimization problem, where we are trying to learn the parameters that minimize a *loss function*; that loss function is typically going to be some cumulative function of the errors; a common loss function is RMSE (root mean square of errors)."
   ]
  },
  {
   "cell_type": "markdown",
   "metadata": {
    "slideshow": {
     "slide_type": "slide"
    }
   },
   "source": [
    "# Shaping the Data\n",
    "\n",
    "We are trying to predict _hours_ of monthly usage from the number of months following the training. So we need to reshape the data to just two columns: month (__`X`__) and hours (`y`).\n",
    "\n",
    "Go research _tidy data_ to learn more."
   ]
  },
  {
   "cell_type": "markdown",
   "metadata": {
    "slideshow": {
     "slide_type": "slide"
    }
   },
   "source": [
    "# Encoding Data Appropriately\n",
    "\n",
    "Most ML algorithms rely on the inputs being numeric quantities. So we need to convert categorical/textual data.\n",
    "\n",
    "A common approach is *1-hot encoding*: add a new column for every unique value of that categorical variable, and then encode the values in those columns as 0/1.\n",
    "\n",
    "For text, we would drop common words like \"the\" and \"and\" (_stop words_), and refer to this as _bag of words_."
   ]
  },
  {
   "cell_type": "markdown",
   "metadata": {
    "slideshow": {
     "slide_type": "slide"
    }
   },
   "source": [
    "# 1-Hot Text Example\n",
    "\n",
    "    the cat sat on the mat\n",
    "    the rat doesn't like the cat\n",
    "    the mat belongs to the rat\n",
    "\n",
    "Drop stop words \"the\", \"on\", \"to\".\n",
    "\n",
    "    belongs doesn't cat like mat rat sat\n",
    "    0       0       1   0    1   0   0\n",
    "    0       1       1   1    0   1   0\n",
    "    1       0       0   0    1   1   0\n"
   ]
  },
  {
   "cell_type": "markdown",
   "metadata": {
    "slideshow": {
     "slide_type": "slide"
    }
   },
   "source": [
    "# Hyperparameters\n",
    "\n",
    "While we learn the model parameters, there are some other parameters we need to specify as inputs to the model too; these are called *hyperparameters*. For example, if we learn a decision tree model, the parameters might be the features being tested at each branch and the values they are being tested against, while the hyperparameters would include the depth that we want to limit the tree to. For a polynomial regression model, the parameters would be the coefficients of the polynomial, while the hyperparameters could include the degree of polynomial we want to learn."
   ]
  },
  {
   "cell_type": "markdown",
   "metadata": {
    "slideshow": {
     "slide_type": "slide"
    }
   },
   "source": [
    "# Cleaning the Data\n",
    "\n",
    "Data is rarely clean. We need to do things like:\n",
    "\n",
    "- handle _missing values_ (use mean/median, infer from neighbors, or drop observation)\n",
    "- normalize values (e.g scale to range [0,1], or to have mean 0 and stddev 1.0)\n",
    "- remove _outliers_ - e.g. drop top and bottom percentiles, or values more than (say) 3 standard deviations from mean\n",
    "- removing remaining bad observations\n",
    "- for text, removing common _stop words_, normalizing case, _stemming_ and _lemmatization_"
   ]
  },
  {
   "cell_type": "markdown",
   "metadata": {
    "slideshow": {
     "slide_type": "slide"
    }
   },
   "source": [
    "# Exploratory Analysis\n",
    "\n",
    "We start with some exploratory analysis of the data. If the number of features is not too high we use a *pairplot* or *scatter matrix*, which plots multiple pairwise scatterplots for each combination of pairs of features, as well as the distribution of each feature. \n",
    "\n",
    "We're looking for several things: \n",
    "\n",
    "- features that are strongly correlated (or strongly inversely correlated) - we may be able to exclude one to simplify\n",
    "- obvious clusters, that may be linearly separable - so we can use simple linear models\n",
    "- features which seem correlated counter-intuitively - may indicate important missing features (*confounding variables*). E.g. daily ice cream consumption and drive-by shooting rates.\n",
    "- are the distributions Gaussian (normal)? Some techniques expect that."
   ]
  },
  {
   "cell_type": "code",
   "execution_count": 4,
   "metadata": {
    "slideshow": {
     "slide_type": "slide"
    }
   },
   "outputs": [
    {
     "data": {
      "text/plain": [
       "<seaborn.axisgrid.PairGrid at 0x1220fbfd0>"
      ]
     },
     "execution_count": 4,
     "metadata": {},
     "output_type": "execute_result"
    },
    {
     "data": {
      "image/png": "[encoded data removed]",
      "text/plain": [
       "<Figure size 540x540 with 12 Axes>"
      ]
     },
     "metadata": {
      "needs_background": "light"
     },
     "output_type": "display_data"
    }
   ],
   "source": [
    "sns.pairplot(titanic.dropna())"
   ]
  },
  {
   "cell_type": "code",
   "execution_count": null,
   "metadata": {},
   "outputs": [],
   "source": [
    "# TODO - do a pairplot of iris dataset"
   ]
  },
  {
   "cell_type": "code",
   "execution_count": null,
   "metadata": {
    "slideshow": {
     "slide_type": "skip"
    }
   },
   "outputs": [],
   "source": [
    "import matplotlib.pyplot as plt\n",
    "%matplotlib inline\n",
    "\n",
    "def plot_data(figsize=(8, 5)):\n",
    "    fig = plt.figure(figsize=figsize)\n",
    "    survived = titanic[titanic.survived == 1]\n",
    "    died = titanic[titanic.survived == 0]\n",
    "    plt.scatter(died.age, died.pclass, alpha=0.4, color='red')\n",
    "    plt.scatter(survived.age, survived.pclass, s=10, alpha=0.4, color=\"blue\")\n",
    "    plt.xlim((0, 100))\n",
    "    plt.ylabel('pclass')\n",
    "    plt.xlabel('age')"
   ]
  },
  {
   "cell_type": "code",
   "execution_count": 5,
   "metadata": {
    "slideshow": {
     "slide_type": "slide"
    }
   },
   "outputs": [
    {
     "data": {
      "image/png": "[encoded data removed]",
      "text/plain": [
       "<Figure size 576x360 with 1 Axes>"
      ]
     },
     "metadata": {
      "needs_background": "light"
     },
     "output_type": "display_data"
    }
   ],
   "source": [
    "plot_data()"
   ]
  },
  {
   "cell_type": "code",
   "execution_count": 24,
   "metadata": {},
   "outputs": [
    {
     "data": {
      "text/plain": [
       "[Text(167.4, 181.2, 'X[1] <= 2.5\\nentropy = 0.483\\nsamples = 1046\\nvalue = [619, 427]'),\n",
       " Text(83.7, 108.72, 'X[0] <= 15.5\\nentropy = 0.496\\nsamples = 545\\nvalue = [249, 296]'),\n",
       " Text(41.85, 36.23999999999998, 'entropy = 0.105\\nsamples = 36\\nvalue = [2, 34]'),\n",
       " Text(125.55000000000001, 36.23999999999998, 'entropy = 0.5\\nsamples = 509\\nvalue = [247, 262]'),\n",
       " Text(251.10000000000002, 108.72, 'X[0] <= 5.5\\nentropy = 0.386\\nsamples = 501\\nvalue = [370, 131]'),\n",
       " Text(209.25, 36.23999999999998, 'entropy = 0.5\\nsamples = 37\\nvalue = [18, 19]'),\n",
       " Text(292.95, 36.23999999999998, 'entropy = 0.366\\nsamples = 464\\nvalue = [352, 112]')]"
      ]
     },
     "execution_count": 24,
     "metadata": {},
     "output_type": "execute_result"
    },
    {
     "data": {
      "image/png": "[encoded data removed]",
      "text/plain": [
       "<Figure size 432x288 with 1 Axes>"
      ]
     },
     "metadata": {
      "needs_background": "light"
     },
     "output_type": "display_data"
    }
   ],
   "source": [
    "from sklearn.tree import DecisionTreeClassifier, plot_tree\n",
    "import pandas as pd\n",
    "\n",
    "\n",
    "titanic = pd.read_excel('http://biostat.mc.vanderbilt.edu/wiki/pub/Main/DataSets/titanic3.xls')[[\"age\", \"pclass\", \"survived\"]]\n",
    "titanic = titanic.dropna()\n",
    "X = titanic[[\"age\", \"pclass\"]]\n",
    "y = titanic.survived\n",
    "est = DecisionTreeClassifier(max_depth=2).fit(X, y)\n",
    "\n",
    "plot_tree(est, filled=True)"
   ]
  },
  {
   "cell_type": "code",
   "execution_count": 17,
   "metadata": {
    "slideshow": {
     "slide_type": "skip"
    }
   },
   "outputs": [],
   "source": [
    "import numpy as np\n",
    "import matplotlib.pyplot as plt\n",
    "\n",
    "from sklearn import svm, datasets\n",
    "from sklearn.model_selection import train_test_split\n",
    "from sklearn.metrics import confusion_matrix\n",
    "from sklearn.utils.multiclass import unique_labels\n",
    "\n",
    "\n",
    "def plot_confusion_matrix(y_true, y_pred, classes,\n",
    "                          normalize=False,\n",
    "                          title=None,\n",
    "                          cmap=plt.cm.Blues):\n",
    "    \"\"\"\n",
    "    This function prints and plots the confusion matrix.\n",
    "    Normalization can be applied by setting `normalize=True`.\n",
    "    \"\"\"\n",
    "    if not title:\n",
    "        if normalize:\n",
    "            title = 'Normalized confusion matrix'\n",
    "        else:\n",
    "            title = 'Confusion matrix, without normalization'\n",
    "\n",
    "    # Compute confusion matrix\n",
    "    cm = confusion_matrix(y_true, y_pred)\n",
    "    # Only use the labels that appear in the data\n",
    "    classes = classes[unique_labels(y_true, y_pred)]\n",
    "\n",
    "    print(cm)\n",
    "\n",
    "    fig, ax = plt.subplots()\n",
    "    im = ax.imshow(cm, interpolation='nearest', cmap=cmap)\n",
    "    ax.figure.colorbar(im, ax=ax)\n",
    "    # We want to show all ticks...\n",
    "    ax.set(xticks=np.arange(cm.shape[1]),\n",
    "           yticks=np.arange(cm.shape[0]),\n",
    "           # ... and label them with the respective list entries\n",
    "           xticklabels=classes, yticklabels=classes,\n",
    "           title=title,\n",
    "           ylabel='True label',\n",
    "           xlabel='Predicted label')\n",
    "\n",
    "    # Rotate the tick labels and set their alignment.\n",
    "    plt.setp(ax.get_xticklabels(), rotation=45, ha=\"right\",\n",
    "             rotation_mode=\"anchor\")\n",
    "\n",
    "    # Loop over data dimensions and create text annotations.\n",
    "    fmt = '.2f' if normalize else 'd'\n",
    "    thresh = cm.max() / 2.\n",
    "    for i in range(cm.shape[0]):\n",
    "        for j in range(cm.shape[1]):\n",
    "            ax.text(j, i, format(cm[i, j], fmt),\n",
    "                    ha=\"center\", va=\"center\",\n",
    "                    color=\"white\" if cm[i, j] > thresh else \"black\")\n",
    "    fig.tight_layout()\n",
    "    return ax"
   ]
  },
  {
   "cell_type": "markdown",
   "metadata": {
    "slideshow": {
     "slide_type": "slide"
    }
   },
   "source": [
    "# Measuring a Classifier - The Confusion Matrix\n",
    "\n",
    "A way to see how well we have done is to use a *[confusion matrix](https://en.wikipedia.org/wiki/Confusion_matrix)* that plots counts of predicted vs actual values. This is usually only useful for a small number of classes or it becomes hard to understand. "
   ]
  },
  {
   "cell_type": "code",
   "execution_count": 25,
   "metadata": {},
   "outputs": [
    {
     "name": "stdout",
     "output_type": "stream",
     "text": [
      "[[352 267]\n",
      " [112 315]]\n"
     ]
    },
    {
     "data": {
      "text/plain": [
       "<matplotlib.axes._subplots.AxesSubplot at 0x1094ba898>"
      ]
     },
     "execution_count": 25,
     "metadata": {},
     "output_type": "execute_result"
    },
    {
     "data": {
      "image/png": "[encoded data removed]",
      "text/plain": [
       "<Figure size 432x288 with 2 Axes>"
      ]
     },
     "metadata": {
      "needs_background": "light"
     },
     "output_type": "display_data"
    }
   ],
   "source": [
    "y_pred = est.predict(X)\n",
    "\n",
    "plot_confusion_matrix(y, y_pred, classes=np.array([\"died\", \"survived\"]),\n",
    "                      title='Confusion matrix')"
   ]
  },
  {
   "cell_type": "code",
   "execution_count": 26,
   "metadata": {},
   "outputs": [],
   "source": [
    "titanic[\"y_pred\"] = y_pred"
   ]
  },
  {
   "cell_type": "code",
   "execution_count": 35,
   "metadata": {},
   "outputs": [
    {
     "data": {
      "text/html": [
       "<div>\n",
       "<style scoped>\n",
       "    .dataframe tbody tr th:only-of-type {\n",
       "        vertical-align: middle;\n",
       "    }\n",
       "\n",
       "    .dataframe tbody tr th {\n",
       "        vertical-align: top;\n",
       "    }\n",
       "\n",
       "    .dataframe thead th {\n",
       "        text-align: right;\n",
       "    }\n",
       "</style>\n",
       "<table border=\"1\" class=\"dataframe\">\n",
       "  <thead>\n",
       "    <tr style=\"text-align: right;\">\n",
       "      <th></th>\n",
       "      <th>age</th>\n",
       "      <th>pclass</th>\n",
       "      <th>survived</th>\n",
       "      <th>y_pred</th>\n",
       "    </tr>\n",
       "  </thead>\n",
       "  <tbody>\n",
       "  </tbody>\n",
       "</table>\n",
       "</div>"
      ],
      "text/plain": [
       "Empty DataFrame\n",
       "Columns: [age, pclass, survived, y_pred]\n",
       "Index: []"
      ]
     },
     "execution_count": 35,
     "metadata": {},
     "output_type": "execute_result"
    }
   ],
   "source": [
    "titanic[(titanic.y_pred == 0) & (titanic.pclass == 2)]"
   ]
  },
  {
   "cell_type": "markdown",
   "metadata": {},
   "source": [
    "# Type 1 and Type 2 Errors"
   ]
  },
  {
   "cell_type": "markdown",
   "metadata": {
    "slideshow": {
     "slide_type": "slide"
    }
   },
   "source": [
    "# Measuring a Classifier - Precision and Recall\n",
    "\n"
   ]
  },
  {
   "cell_type": "code",
   "execution_count": 26,
   "metadata": {},
   "outputs": [
    {
     "data": {
      "text/plain": [
       "[Text(144.3714285714286, 205.35999999999999, 'X[1] <= 2.5\\nentropy = 0.483\\nsamples = 1046\\nvalue = [619, 427]'),\n",
       " Text(63.99285714285715, 181.2, 'X[0] <= 15.5\\nentropy = 0.496\\nsamples = 545\\nvalue = [249, 296]'),\n",
       " Text(21.25714285714286, 157.04, 'X[0] <= 13.5\\nentropy = 0.105\\nsamples = 36\\nvalue = [2, 34]'),\n",
       " Text(14.171428571428573, 132.88, 'X[1] <= 1.5\\nentropy = 0.062\\nsamples = 31\\nvalue = [1, 30]'),\n",
       " Text(10.62857142857143, 108.72, 'X[0] <= 3.0\\nentropy = 0.278\\nsamples = 6\\nvalue = [1, 5]'),\n",
       " Text(7.085714285714286, 84.56, 'X[0] <= 1.458\\nentropy = 0.5\\nsamples = 2\\nvalue = [1, 1]'),\n",
       " Text(3.542857142857143, 60.400000000000006, 'entropy = 0.0\\nsamples = 1\\nvalue = [0, 1]'),\n",
       " Text(10.62857142857143, 60.400000000000006, 'entropy = 0.0\\nsamples = 1\\nvalue = [1, 0]'),\n",
       " Text(14.171428571428573, 84.56, 'entropy = 0.0\\nsamples = 4\\nvalue = [0, 4]'),\n",
       " Text(17.714285714285715, 108.72, 'entropy = 0.0\\nsamples = 25\\nvalue = [0, 25]'),\n",
       " Text(28.342857142857145, 132.88, 'X[0] <= 14.5\\nentropy = 0.32\\nsamples = 5\\nvalue = [1, 4]'),\n",
       " Text(24.8, 108.72, 'X[1] <= 1.5\\nentropy = 0.444\\nsamples = 3\\nvalue = [1, 2]'),\n",
       " Text(21.25714285714286, 84.56, 'entropy = 0.0\\nsamples = 1\\nvalue = [0, 1]'),\n",
       " Text(28.342857142857145, 84.56, 'entropy = 0.5\\nsamples = 2\\nvalue = [1, 1]'),\n",
       " Text(31.88571428571429, 108.72, 'entropy = 0.0\\nsamples = 2\\nvalue = [0, 2]'),\n",
       " Text(106.72857142857144, 157.04, 'X[1] <= 1.5\\nentropy = 0.5\\nsamples = 509\\nvalue = [247, 262]'),\n",
       " Text(77.05714285714286, 132.88, 'X[0] <= 60.5\\nentropy = 0.466\\nsamples = 276\\nvalue = [102, 174]'),\n",
       " Text(53.142857142857146, 108.72, 'X[0] <= 36.5\\nentropy = 0.45\\nsamples = 255\\nvalue = [87, 168]'),\n",
       " Text(35.42857142857143, 84.56, 'X[0] <= 33.5\\nentropy = 0.387\\nsamples = 122\\nvalue = [32, 90]'),\n",
       " Text(26.571428571428573, 60.400000000000006, 'X[0] <= 23.5\\nentropy = 0.408\\nsamples = 98\\nvalue = [28, 70]'),\n",
       " Text(19.485714285714288, 36.24000000000001, 'X[0] <= 16.5\\nentropy = 0.313\\nsamples = 36\\nvalue = [7, 29]'),\n",
       " Text(15.942857142857145, 12.079999999999984, 'entropy = 0.0\\nsamples = 3\\nvalue = [0, 3]'),\n",
       " Text(23.028571428571432, 12.079999999999984, 'entropy = 0.334\\nsamples = 33\\nvalue = [7, 26]'),\n",
       " Text(33.65714285714286, 36.24000000000001, 'X[0] <= 27.5\\nentropy = 0.448\\nsamples = 62\\nvalue = [21, 41]'),\n",
       " Text(30.114285714285717, 12.079999999999984, 'entropy = 0.413\\nsamples = 24\\nvalue = [7, 17]'),\n",
       " Text(37.2, 12.079999999999984, 'entropy = 0.465\\nsamples = 38\\nvalue = [14, 24]'),\n",
       " Text(44.28571428571429, 60.400000000000006, 'X[0] <= 35.5\\nentropy = 0.278\\nsamples = 24\\nvalue = [4, 20]'),\n",
       " Text(40.74285714285715, 36.24000000000001, 'entropy = 0.0\\nsamples = 12\\nvalue = [0, 12]'),\n",
       " Text(47.82857142857143, 36.24000000000001, 'entropy = 0.444\\nsamples = 12\\nvalue = [4, 8]'),\n",
       " Text(70.85714285714286, 84.56, 'X[0] <= 47.5\\nentropy = 0.485\\nsamples = 133\\nvalue = [55, 78]'),\n",
       " Text(62.00000000000001, 60.400000000000006, 'X[0] <= 45.25\\nentropy = 0.5\\nsamples = 66\\nvalue = [32, 34]'),\n",
       " Text(54.91428571428572, 36.24000000000001, 'X[0] <= 42.5\\nentropy = 0.473\\nsamples = 52\\nvalue = [20, 32]'),\n",
       " Text(51.371428571428574, 12.079999999999984, 'entropy = 0.496\\nsamples = 35\\nvalue = [16, 19]'),\n",
       " Text(58.45714285714286, 12.079999999999984, 'entropy = 0.36\\nsamples = 17\\nvalue = [4, 13]'),\n",
       " Text(69.08571428571429, 36.24000000000001, 'X[0] <= 46.5\\nentropy = 0.245\\nsamples = 14\\nvalue = [12, 2]'),\n",
       " Text(65.54285714285714, 12.079999999999984, 'entropy = 0.0\\nsamples = 6\\nvalue = [6, 0]'),\n",
       " Text(72.62857142857143, 12.079999999999984, 'entropy = 0.375\\nsamples = 8\\nvalue = [6, 2]'),\n",
       " Text(79.71428571428572, 60.400000000000006, 'X[0] <= 48.5\\nentropy = 0.451\\nsamples = 67\\nvalue = [23, 44]'),\n",
       " Text(76.17142857142858, 36.24000000000001, 'entropy = 0.198\\nsamples = 9\\nvalue = [1, 8]'),\n",
       " Text(83.25714285714287, 36.24000000000001, 'X[0] <= 58.5\\nentropy = 0.471\\nsamples = 58\\nvalue = [22, 36]'),\n",
       " Text(79.71428571428572, 12.079999999999984, 'entropy = 0.482\\nsamples = 52\\nvalue = [21, 31]'),\n",
       " Text(86.80000000000001, 12.079999999999984, 'entropy = 0.278\\nsamples = 6\\nvalue = [1, 5]'),\n",
       " Text(100.97142857142858, 108.72, 'X[0] <= 73.5\\nentropy = 0.408\\nsamples = 21\\nvalue = [15, 6]'),\n",
       " Text(97.42857142857143, 84.56, 'X[0] <= 64.5\\nentropy = 0.332\\nsamples = 19\\nvalue = [15, 4]'),\n",
       " Text(93.8857142857143, 60.400000000000006, 'X[0] <= 61.5\\nentropy = 0.426\\nsamples = 13\\nvalue = [9, 4]'),\n",
       " Text(90.34285714285716, 36.24000000000001, 'entropy = 0.0\\nsamples = 3\\nvalue = [3, 0]'),\n",
       " Text(97.42857142857143, 36.24000000000001, 'X[0] <= 62.5\\nentropy = 0.48\\nsamples = 10\\nvalue = [6, 4]'),\n",
       " Text(93.8857142857143, 12.079999999999984, 'entropy = 0.444\\nsamples = 3\\nvalue = [2, 1]'),\n",
       " Text(100.97142857142858, 12.079999999999984, 'entropy = 0.49\\nsamples = 7\\nvalue = [4, 3]'),\n",
       " Text(100.97142857142858, 60.400000000000006, 'entropy = 0.0\\nsamples = 6\\nvalue = [6, 0]'),\n",
       " Text(104.51428571428572, 84.56, 'entropy = 0.0\\nsamples = 2\\nvalue = [0, 2]'),\n",
       " Text(136.4, 132.88, 'X[0] <= 50.5\\nentropy = 0.47\\nsamples = 233\\nvalue = [145, 88]'),\n",
       " Text(118.6857142857143, 108.72, 'X[0] <= 16.5\\nentropy = 0.48\\nsamples = 213\\nvalue = [128, 85]'),\n",
       " Text(115.14285714285715, 84.56, 'entropy = 0.0\\nsamples = 2\\nvalue = [2, 0]'),\n",
       " Text(122.22857142857144, 84.56, 'X[0] <= 44.5\\nentropy = 0.481\\nsamples = 211\\nvalue = [126, 85]'),\n",
       " Text(115.14285714285715, 60.400000000000006, 'X[0] <= 42.5\\nentropy = 0.477\\nsamples = 196\\nvalue = [119, 77]'),\n",
       " Text(111.60000000000001, 36.24000000000001, 'X[0] <= 36.25\\nentropy = 0.481\\nsamples = 191\\nvalue = [114, 77]'),\n",
       " Text(108.05714285714286, 12.079999999999984, 'entropy = 0.486\\nsamples = 168\\nvalue = [98, 70]'),\n",
       " Text(115.14285714285715, 12.079999999999984, 'entropy = 0.423\\nsamples = 23\\nvalue = [16, 7]'),\n",
       " Text(118.6857142857143, 36.24000000000001, 'entropy = 0.0\\nsamples = 5\\nvalue = [5, 0]'),\n",
       " Text(129.31428571428572, 60.400000000000006, 'X[0] <= 45.5\\nentropy = 0.498\\nsamples = 15\\nvalue = [7, 8]'),\n",
       " Text(125.77142857142859, 36.24000000000001, 'entropy = 0.0\\nsamples = 3\\nvalue = [0, 3]'),\n",
       " Text(132.85714285714286, 36.24000000000001, 'X[0] <= 47.5\\nentropy = 0.486\\nsamples = 12\\nvalue = [7, 5]'),\n",
       " Text(129.31428571428572, 12.079999999999984, 'entropy = 0.0\\nsamples = 3\\nvalue = [3, 0]'),\n",
       " Text(136.4, 12.079999999999984, 'entropy = 0.494\\nsamples = 9\\nvalue = [4, 5]'),\n",
       " Text(154.11428571428573, 108.72, 'X[0] <= 56.0\\nentropy = 0.255\\nsamples = 20\\nvalue = [17, 3]'),\n",
       " Text(147.02857142857144, 84.56, 'X[0] <= 54.5\\nentropy = 0.375\\nsamples = 8\\nvalue = [6, 2]'),\n",
       " Text(143.4857142857143, 60.400000000000006, 'X[0] <= 53.0\\nentropy = 0.245\\nsamples = 7\\nvalue = [6, 1]'),\n",
       " Text(139.94285714285715, 36.24000000000001, 'entropy = 0.0\\nsamples = 3\\nvalue = [3, 0]'),\n",
       " Text(147.02857142857144, 36.24000000000001, 'entropy = 0.375\\nsamples = 4\\nvalue = [3, 1]'),\n",
       " Text(150.57142857142858, 60.400000000000006, 'entropy = 0.0\\nsamples = 1\\nvalue = [0, 1]'),\n",
       " Text(161.20000000000002, 84.56, 'X[0] <= 61.5\\nentropy = 0.153\\nsamples = 12\\nvalue = [11, 1]'),\n",
       " Text(157.65714285714287, 60.400000000000006, 'entropy = 0.0\\nsamples = 7\\nvalue = [7, 0]'),\n",
       " Text(164.74285714285716, 60.400000000000006, 'X[0] <= 62.5\\nentropy = 0.32\\nsamples = 5\\nvalue = [4, 1]'),\n",
       " Text(161.20000000000002, 36.24000000000001, 'entropy = 0.5\\nsamples = 2\\nvalue = [1, 1]'),\n",
       " Text(168.2857142857143, 36.24000000000001, 'entropy = 0.0\\nsamples = 3\\nvalue = [3, 0]'),\n",
       " Text(224.75000000000003, 181.2, 'X[0] <= 5.5\\nentropy = 0.386\\nsamples = 501\\nvalue = [370, 131]'),\n",
       " Text(186.00000000000003, 157.04, 'X[0] <= 1.5\\nentropy = 0.5\\nsamples = 37\\nvalue = [18, 19]'),\n",
       " Text(175.3714285714286, 132.88, 'X[0] <= 0.25\\nentropy = 0.459\\nsamples = 14\\nvalue = [5, 9]'),\n",
       " Text(171.82857142857145, 108.72, 'entropy = 0.0\\nsamples = 1\\nvalue = [0, 1]'),\n",
       " Text(178.91428571428574, 108.72, 'X[0] <= 0.375\\nentropy = 0.473\\nsamples = 13\\nvalue = [5, 8]'),\n",
       " Text(175.3714285714286, 84.56, 'entropy = 0.0\\nsamples = 1\\nvalue = [1, 0]'),\n",
       " Text(182.45714285714288, 84.56, 'X[0] <= 0.917\\nentropy = 0.444\\nsamples = 12\\nvalue = [4, 8]'),\n",
       " Text(178.91428571428574, 60.400000000000006, 'X[0] <= 0.583\\nentropy = 0.32\\nsamples = 5\\nvalue = [1, 4]'),\n",
       " Text(175.3714285714286, 36.24000000000001, 'entropy = 0.0\\nsamples = 1\\nvalue = [0, 1]'),\n",
       " Text(182.45714285714288, 36.24000000000001, 'X[0] <= 0.792\\nentropy = 0.375\\nsamples = 4\\nvalue = [1, 3]'),\n",
       " Text(178.91428571428574, 12.079999999999984, 'entropy = 0.444\\nsamples = 3\\nvalue = [1, 2]'),\n",
       " Text(186.00000000000003, 12.079999999999984, 'entropy = 0.0\\nsamples = 1\\nvalue = [0, 1]'),\n",
       " Text(186.00000000000003, 60.400000000000006, 'entropy = 0.49\\nsamples = 7\\nvalue = [3, 4]'),\n",
       " Text(196.62857142857143, 132.88, 'X[0] <= 2.5\\nentropy = 0.491\\nsamples = 23\\nvalue = [13, 10]'),\n",
       " Text(193.0857142857143, 108.72, 'entropy = 0.219\\nsamples = 8\\nvalue = [7, 1]'),\n",
       " Text(200.17142857142858, 108.72, 'X[0] <= 4.5\\nentropy = 0.48\\nsamples = 15\\nvalue = [6, 9]'),\n",
       " Text(196.62857142857143, 84.56, 'X[0] <= 3.5\\nentropy = 0.496\\nsamples = 11\\nvalue = [5, 6]'),\n",
       " Text(193.0857142857143, 60.400000000000006, 'entropy = 0.5\\nsamples = 4\\nvalue = [2, 2]'),\n",
       " Text(200.17142857142858, 60.400000000000006, 'entropy = 0.49\\nsamples = 7\\nvalue = [3, 4]'),\n",
       " Text(203.71428571428572, 84.56, 'entropy = 0.375\\nsamples = 4\\nvalue = [1, 3]'),\n",
       " Text(263.5, 157.04, 'X[0] <= 32.25\\nentropy = 0.366\\nsamples = 464\\nvalue = [352, 112]'),\n",
       " Text(234.71428571428572, 132.88, 'X[0] <= 31.5\\nentropy = 0.395\\nsamples = 354\\nvalue = [258, 96]'),\n",
       " Text(231.17142857142858, 108.72, 'X[0] <= 27.5\\nentropy = 0.388\\nsamples = 338\\nvalue = [249, 89]'),\n",
       " Text(219.65714285714287, 84.56, 'X[0] <= 21.5\\nentropy = 0.402\\nsamples = 280\\nvalue = [202, 78]'),\n",
       " Text(207.25714285714287, 60.400000000000006, 'X[0] <= 16.5\\nentropy = 0.377\\nsamples = 159\\nvalue = [119, 40]'),\n",
       " Text(200.17142857142858, 36.24000000000001, 'X[0] <= 11.75\\nentropy = 0.436\\nsamples = 56\\nvalue = [38, 18]'),\n",
       " Text(196.62857142857143, 12.079999999999984, 'entropy = 0.346\\nsamples = 27\\nvalue = [21, 6]'),\n",
       " Text(203.71428571428572, 12.079999999999984, 'entropy = 0.485\\nsamples = 29\\nvalue = [17, 12]'),\n",
       " Text(214.34285714285716, 36.24000000000001, 'X[0] <= 20.25\\nentropy = 0.336\\nsamples = 103\\nvalue = [81, 22]'),\n",
       " Text(210.8, 12.079999999999984, 'entropy = 0.354\\nsamples = 74\\nvalue = [57, 17]'),\n",
       " Text(217.8857142857143, 12.079999999999984, 'entropy = 0.285\\nsamples = 29\\nvalue = [24, 5]'),\n",
       " Text(232.05714285714288, 60.400000000000006, 'X[0] <= 26.75\\nentropy = 0.431\\nsamples = 121\\nvalue = [83, 38]'),\n",
       " Text(228.51428571428573, 36.24000000000001, 'X[0] <= 26.25\\nentropy = 0.422\\nsamples = 106\\nvalue = [74, 32]'),\n",
       " Text(224.9714285714286, 12.079999999999984, 'entropy = 0.424\\nsamples = 105\\nvalue = [73, 32]'),\n",
       " Text(232.05714285714288, 12.079999999999984, 'entropy = 0.0\\nsamples = 1\\nvalue = [1, 0]'),\n",
       " Text(235.60000000000002, 36.24000000000001, 'entropy = 0.48\\nsamples = 15\\nvalue = [9, 6]'),\n",
       " Text(242.6857142857143, 84.56, 'X[0] <= 28.75\\nentropy = 0.307\\nsamples = 58\\nvalue = [47, 11]'),\n",
       " Text(239.14285714285717, 60.400000000000006, 'entropy = 0.0\\nsamples = 18\\nvalue = [18, 0]'),\n",
       " Text(246.22857142857146, 60.400000000000006, 'X[0] <= 29.5\\nentropy = 0.399\\nsamples = 40\\nvalue = [29, 11]'),\n",
       " Text(242.6857142857143, 36.24000000000001, 'entropy = 0.444\\nsamples = 15\\nvalue = [10, 5]'),\n",
       " Text(249.7714285714286, 36.24000000000001, 'X[0] <= 30.75\\nentropy = 0.365\\nsamples = 25\\nvalue = [19, 6]'),\n",
       " Text(246.22857142857146, 12.079999999999984, 'entropy = 0.305\\nsamples = 16\\nvalue = [13, 3]'),\n",
       " Text(253.31428571428575, 12.079999999999984, 'entropy = 0.444\\nsamples = 9\\nvalue = [6, 3]'),\n",
       " Text(238.25714285714287, 108.72, 'entropy = 0.492\\nsamples = 16\\nvalue = [9, 7]'),\n",
       " Text(292.28571428571433, 132.88, 'X[0] <= 39.5\\nentropy = 0.249\\nsamples = 110\\nvalue = [94, 16]'),\n",
       " Text(276.34285714285716, 108.72, 'X[0] <= 35.5\\nentropy = 0.298\\nsamples = 55\\nvalue = [45, 10]'),\n",
       " Text(267.4857142857143, 84.56, 'X[0] <= 33.5\\nentropy = 0.204\\nsamples = 26\\nvalue = [23, 3]'),\n",
       " Text(260.40000000000003, 60.400000000000006, 'X[0] <= 32.75\\nentropy = 0.278\\nsamples = 12\\nvalue = [10, 2]'),\n",
       " Text(256.8571428571429, 36.24000000000001, 'entropy = 0.0\\nsamples = 1\\nvalue = [1, 0]'),\n",
       " Text(263.9428571428572, 36.24000000000001, 'entropy = 0.298\\nsamples = 11\\nvalue = [9, 2]'),\n",
       " Text(274.5714285714286, 60.400000000000006, 'X[0] <= 34.75\\nentropy = 0.133\\nsamples = 14\\nvalue = [13, 1]'),\n",
       " Text(271.02857142857147, 36.24000000000001, 'entropy = 0.0\\nsamples = 6\\nvalue = [6, 0]'),\n",
       " Text(278.11428571428576, 36.24000000000001, 'entropy = 0.219\\nsamples = 8\\nvalue = [7, 1]'),\n",
       " Text(285.20000000000005, 84.56, 'X[0] <= 36.25\\nentropy = 0.366\\nsamples = 29\\nvalue = [22, 7]'),\n",
       " Text(281.6571428571429, 60.400000000000006, 'entropy = 0.32\\nsamples = 10\\nvalue = [8, 2]'),\n",
       " Text(288.7428571428572, 60.400000000000006, 'X[0] <= 36.75\\nentropy = 0.388\\nsamples = 19\\nvalue = [14, 5]'),\n",
       " Text(285.20000000000005, 36.24000000000001, 'entropy = 0.0\\nsamples = 1\\nvalue = [0, 1]'),\n",
       " Text(292.28571428571433, 36.24000000000001, 'X[0] <= 37.5\\nentropy = 0.346\\nsamples = 18\\nvalue = [14, 4]'),\n",
       " Text(288.7428571428572, 12.079999999999984, 'entropy = 0.0\\nsamples = 3\\nvalue = [3, 0]'),\n",
       " Text(295.8285714285715, 12.079999999999984, 'entropy = 0.391\\nsamples = 15\\nvalue = [11, 4]'),\n",
       " Text(308.22857142857146, 108.72, 'X[0] <= 43.5\\nentropy = 0.194\\nsamples = 55\\nvalue = [49, 6]'),\n",
       " Text(304.6857142857143, 84.56, 'entropy = 0.0\\nsamples = 23\\nvalue = [23, 0]'),\n",
       " Text(311.7714285714286, 84.56, 'X[0] <= 45.25\\nentropy = 0.305\\nsamples = 32\\nvalue = [26, 6]'),\n",
       " Text(302.9142857142857, 60.400000000000006, 'X[0] <= 44.5\\nentropy = 0.463\\nsamples = 11\\nvalue = [7, 4]'),\n",
       " Text(299.3714285714286, 36.24000000000001, 'entropy = 0.375\\nsamples = 4\\nvalue = [3, 1]'),\n",
       " Text(306.45714285714286, 36.24000000000001, 'entropy = 0.49\\nsamples = 7\\nvalue = [4, 3]'),\n",
       " Text(320.62857142857143, 60.400000000000006, 'X[0] <= 62.0\\nentropy = 0.172\\nsamples = 21\\nvalue = [19, 2]'),\n",
       " Text(313.54285714285714, 36.24000000000001, 'X[0] <= 47.5\\nentropy = 0.111\\nsamples = 17\\nvalue = [16, 1]'),\n",
       " Text(310.0, 12.079999999999984, 'entropy = 0.32\\nsamples = 5\\nvalue = [4, 1]'),\n",
       " Text(317.0857142857143, 12.079999999999984, 'entropy = 0.0\\nsamples = 12\\nvalue = [12, 0]'),\n",
       " Text(327.7142857142857, 36.24000000000001, 'X[0] <= 64.0\\nentropy = 0.375\\nsamples = 4\\nvalue = [3, 1]'),\n",
       " Text(324.1714285714286, 12.079999999999984, 'entropy = 0.0\\nsamples = 1\\nvalue = [0, 1]'),\n",
       " Text(331.25714285714287, 12.079999999999984, 'entropy = 0.0\\nsamples = 3\\nvalue = [3, 0]')]"
      ]
     },
     "execution_count": 26,
     "metadata": {},
     "output_type": "execute_result"
    },
    {
     "data": {
      "image/png": "[encoded data removed]",
      "text/plain": [
       "<Figure size 432x288 with 1 Axes>"
      ]
     },
     "metadata": {
      "needs_background": "light"
     },
     "output_type": "display_data"
    }
   ],
   "source": [
    "est = DecisionTreeClassifier(max_depth=8).fit(X, y)\n",
    "plot_tree(est, filled=True)"
   ]
  },
  {
   "cell_type": "code",
   "execution_count": 27,
   "metadata": {},
   "outputs": [
    {
     "name": "stdout",
     "output_type": "stream",
     "text": [
      "[[532  87]\n",
      " [199 228]]\n"
     ]
    },
    {
     "data": {
      "text/plain": [
       "<matplotlib.axes._subplots.AxesSubplot at 0x125e6a160>"
      ]
     },
     "execution_count": 27,
     "metadata": {},
     "output_type": "execute_result"
    },
    {
     "data": {
      "image/png": "[encoded data removed]",
      "text/plain": [
       "<Figure size 432x288 with 2 Axes>"
      ]
     },
     "metadata": {
      "needs_background": "light"
     },
     "output_type": "display_data"
    }
   ],
   "source": [
    "y_pred = est.predict(X)\n",
    "plot_confusion_matrix(y, y_pred, classes=np.array([\"died\", \"survived\"]),\n",
    "                      title='Confusion matrix')"
   ]
  },
  {
   "cell_type": "code",
   "execution_count": null,
   "metadata": {},
   "outputs": [],
   "source": [
    "est = DecisionTreeRegressor(max_depth=3).fit(X_train, y_train)"
   ]
  },
  {
   "cell_type": "code",
   "execution_count": 7,
   "metadata": {
    "slideshow": {
     "slide_type": "skip"
    }
   },
   "outputs": [
    {
     "data": {
      "text/html": [
       "<div>\n",
       "<style scoped>\n",
       "    .dataframe tbody tr th:only-of-type {\n",
       "        vertical-align: middle;\n",
       "    }\n",
       "\n",
       "    .dataframe tbody tr th {\n",
       "        vertical-align: top;\n",
       "    }\n",
       "\n",
       "    .dataframe thead th {\n",
       "        text-align: right;\n",
       "    }\n",
       "</style>\n",
       "<table border=\"1\" class=\"dataframe\">\n",
       "  <thead>\n",
       "    <tr style=\"text-align: right;\">\n",
       "      <th></th>\n",
       "      <th>Jan</th>\n",
       "      <th>Feb</th>\n",
       "      <th>Mar</th>\n",
       "      <th>Apr</th>\n",
       "      <th>May</th>\n",
       "      <th>Jun</th>\n",
       "    </tr>\n",
       "  </thead>\n",
       "  <tbody>\n",
       "    <tr>\n",
       "      <th>Jane</th>\n",
       "      <td>4</td>\n",
       "      <td>6</td>\n",
       "      <td>12</td>\n",
       "      <td>30</td>\n",
       "      <td>60</td>\n",
       "      <td>90</td>\n",
       "    </tr>\n",
       "    <tr>\n",
       "      <th>Amy</th>\n",
       "      <td>2</td>\n",
       "      <td>4</td>\n",
       "      <td>10</td>\n",
       "      <td>24</td>\n",
       "      <td>44</td>\n",
       "      <td>70</td>\n",
       "    </tr>\n",
       "    <tr>\n",
       "      <th>Lynn</th>\n",
       "      <td>2</td>\n",
       "      <td>6</td>\n",
       "      <td>11</td>\n",
       "      <td>29</td>\n",
       "      <td>64</td>\n",
       "      <td>98</td>\n",
       "    </tr>\n",
       "    <tr>\n",
       "      <th>Diego</th>\n",
       "      <td>3</td>\n",
       "      <td>5</td>\n",
       "      <td>8</td>\n",
       "      <td>23</td>\n",
       "      <td>56</td>\n",
       "      <td>78</td>\n",
       "    </tr>\n",
       "    <tr>\n",
       "      <th>Venki</th>\n",
       "      <td>1</td>\n",
       "      <td>3</td>\n",
       "      <td>6</td>\n",
       "      <td>19</td>\n",
       "      <td>39</td>\n",
       "      <td>73</td>\n",
       "    </tr>\n",
       "    <tr>\n",
       "      <th>Sam</th>\n",
       "      <td>2</td>\n",
       "      <td>4</td>\n",
       "      <td>6</td>\n",
       "      <td>2</td>\n",
       "      <td>0</td>\n",
       "      <td>0</td>\n",
       "    </tr>\n",
       "  </tbody>\n",
       "</table>\n",
       "</div>"
      ],
      "text/plain": [
       "       Jan  Feb  Mar  Apr  May  Jun\n",
       "Jane     4    6   12   30   60   90\n",
       "Amy      2    4   10   24   44   70\n",
       "Lynn     2    6   11   29   64   98\n",
       "Diego    3    5    8   23   56   78\n",
       "Venki    1    3    6   19   39   73\n",
       "Sam      2    4    6    2    0    0"
      ]
     },
     "execution_count": 7,
     "metadata": {},
     "output_type": "execute_result"
    }
   ],
   "source": [
    "import numpy as np\n",
    "import pandas as pd\n",
    "from IPython.display import Markdown\n",
    "\n",
    "df = pd.DataFrame(\n",
    "    {\n",
    "        \"Jan\": [4, 2, 2, 3, 1, 2],\n",
    "        \"Feb\": [6, 4, 6, 5, 3, 4],\n",
    "        \"Mar\": [12, 10, 11, 8, 6, 6],\n",
    "        \"Apr\": [30, 24, 29, 23, 19, 2],\n",
    "        \"May\": [60, 44, 64, 56, 39, 0],\n",
    "        \"Jun\": [90, 70, 98, 78, 73, 0]\n",
    "    },\n",
    "    index = [\"Jane\", \"Amy\", \"Lynn\", \"Diego\", \"Venki\", \"Sam\"]\n",
    ")\n",
    "df"
   ]
  },
  {
   "cell_type": "markdown",
   "metadata": {
    "slideshow": {
     "slide_type": "slide"
    }
   },
   "source": [
    "# Example\n",
    "\n",
    "Several seniors are trained in using the Internet, and their online hours are tracked for 6 months. We want to predict how many hours per months other seniors trained this way will use.\n"
   ]
  },
  {
   "cell_type": "code",
   "execution_count": 2,
   "metadata": {
    "slideshow": {
     "slide_type": "subslide"
    }
   },
   "outputs": [
    {
     "data": {
      "text/html": [
       "<div>\n",
       "<style scoped>\n",
       "    .dataframe tbody tr th:only-of-type {\n",
       "        vertical-align: middle;\n",
       "    }\n",
       "\n",
       "    .dataframe tbody tr th {\n",
       "        vertical-align: top;\n",
       "    }\n",
       "\n",
       "    .dataframe thead th {\n",
       "        text-align: right;\n",
       "    }\n",
       "</style>\n",
       "<table border=\"1\" class=\"dataframe\">\n",
       "  <thead>\n",
       "    <tr style=\"text-align: right;\">\n",
       "      <th></th>\n",
       "      <th>Jan</th>\n",
       "      <th>Feb</th>\n",
       "      <th>Mar</th>\n",
       "      <th>Apr</th>\n",
       "      <th>May</th>\n",
       "      <th>Jun</th>\n",
       "    </tr>\n",
       "  </thead>\n",
       "  <tbody>\n",
       "    <tr>\n",
       "      <th>Jane</th>\n",
       "      <td>4</td>\n",
       "      <td>6</td>\n",
       "      <td>12</td>\n",
       "      <td>30</td>\n",
       "      <td>60</td>\n",
       "      <td>90</td>\n",
       "    </tr>\n",
       "    <tr>\n",
       "      <th>Amy</th>\n",
       "      <td>2</td>\n",
       "      <td>4</td>\n",
       "      <td>10</td>\n",
       "      <td>24</td>\n",
       "      <td>44</td>\n",
       "      <td>70</td>\n",
       "    </tr>\n",
       "    <tr>\n",
       "      <th>Lynn</th>\n",
       "      <td>2</td>\n",
       "      <td>6</td>\n",
       "      <td>11</td>\n",
       "      <td>29</td>\n",
       "      <td>64</td>\n",
       "      <td>98</td>\n",
       "    </tr>\n",
       "    <tr>\n",
       "      <th>Diego</th>\n",
       "      <td>3</td>\n",
       "      <td>5</td>\n",
       "      <td>8</td>\n",
       "      <td>23</td>\n",
       "      <td>56</td>\n",
       "      <td>78</td>\n",
       "    </tr>\n",
       "    <tr>\n",
       "      <th>Venki</th>\n",
       "      <td>1</td>\n",
       "      <td>3</td>\n",
       "      <td>6</td>\n",
       "      <td>19</td>\n",
       "      <td>39</td>\n",
       "      <td>73</td>\n",
       "    </tr>\n",
       "    <tr>\n",
       "      <th>Sam</th>\n",
       "      <td>2</td>\n",
       "      <td>4</td>\n",
       "      <td>9</td>\n",
       "      <td>21</td>\n",
       "      <td>40</td>\n",
       "      <td>77</td>\n",
       "    </tr>\n",
       "  </tbody>\n",
       "</table>\n",
       "</div>"
      ],
      "text/plain": [
       "       Jan  Feb  Mar  Apr  May  Jun\n",
       "Jane     4    6   12   30   60   90\n",
       "Amy      2    4   10   24   44   70\n",
       "Lynn     2    6   11   29   64   98\n",
       "Diego    3    5    8   23   56   78\n",
       "Venki    1    3    6   19   39   73\n",
       "Sam      2    4    9   21   40   77"
      ]
     },
     "execution_count": 2,
     "metadata": {},
     "output_type": "execute_result"
    }
   ],
   "source": [
    "df"
   ]
  },
  {
   "cell_type": "code",
   "execution_count": 3,
   "metadata": {
    "slideshow": {
     "slide_type": "skip"
    }
   },
   "outputs": [
    {
     "data": {
      "text/markdown": [
       "<div><table border=\"1\" class=\"dataframe\">\n",
       "  <thead>\n",
       "    <tr style=\"text-align: right;\">\n",
       "      <th></th>\n",
       "      <th>Jan</th>\n",
       "      <th>Feb</th>\n",
       "      <th>Mar</th>\n",
       "      <th>Apr</th>\n",
       "      <th>May</th>\n",
       "      <th>Jun</th>\n",
       "    </tr>\n",
       "  </thead>\n",
       "  <tbody>\n",
       "    <tr>\n",
       "      <th>Jane</th>\n",
       "      <td>4</td>\n",
       "      <td>6</td>\n",
       "      <td>12</td>\n",
       "      <td>30</td>\n",
       "      <td>60</td>\n",
       "      <td>90</td>\n",
       "    </tr>\n",
       "    <tr>\n",
       "      <th>Amy</th>\n",
       "      <td>2</td>\n",
       "      <td>4</td>\n",
       "      <td>10</td>\n",
       "      <td>24</td>\n",
       "      <td>44</td>\n",
       "      <td>70</td>\n",
       "    </tr>\n",
       "    <tr>\n",
       "      <th>Lynn</th>\n",
       "      <td>2</td>\n",
       "      <td>6</td>\n",
       "      <td>11</td>\n",
       "      <td>29</td>\n",
       "      <td>64</td>\n",
       "      <td>98</td>\n",
       "    </tr>\n",
       "    <tr>\n",
       "      <th>Diego</th>\n",
       "      <td>3</td>\n",
       "      <td>5</td>\n",
       "      <td>8</td>\n",
       "      <td>23</td>\n",
       "      <td>56</td>\n",
       "      <td>78</td>\n",
       "    </tr>\n",
       "    <tr>\n",
       "      <th>Venki</th>\n",
       "      <td>1</td>\n",
       "      <td>3</td>\n",
       "      <td>6</td>\n",
       "      <td>19</td>\n",
       "      <td>39</td>\n",
       "      <td>73</td>\n",
       "    </tr>\n",
       "    <tr>\n",
       "      <th>Sam</th>\n",
       "      <td>2</td>\n",
       "      <td>4</td>\n",
       "      <td>9</td>\n",
       "      <td>21</td>\n",
       "      <td>40</td>\n",
       "      <td>77</td>\n",
       "    </tr>\n",
       "  </tbody>\n",
       "</table></div>"
      ],
      "text/plain": [
       "<IPython.core.display.Markdown object>"
      ]
     },
     "execution_count": 3,
     "metadata": {},
     "output_type": "execute_result"
    }
   ],
   "source": [
    "Markdown(f\"\"\"<div>{df.to_html()}</div>\"\"\")"
   ]
  },
  {
   "cell_type": "code",
   "execution_count": 62,
   "metadata": {
    "slideshow": {
     "slide_type": "skip"
    }
   },
   "outputs": [],
   "source": [
    "df2 = pd.DataFrame(\n",
    "    [\n",
    "        # Jane\n",
    "        [1,4],\n",
    "        [2,6],\n",
    "        [3,12],\n",
    "        [4,30],\n",
    "        [5,60],\n",
    "        [6,90],\n",
    "        \n",
    "        # Amy\n",
    "        [1,2],\n",
    "        [2,4],\n",
    "        [3,10],\n",
    "        [4,24],\n",
    "        [5,44],\n",
    "        [6,70],\n",
    "        \n",
    "        # Lynn\n",
    "        [1,2],\n",
    "        [2,6],\n",
    "        [3,11],\n",
    "        [4,29],\n",
    "        [5,64],\n",
    "        [6,98],\n",
    "        \n",
    "        # Diego\n",
    "        [1,3],\n",
    "        [2,5],\n",
    "        [3,8],\n",
    "        [4,23],\n",
    "        [5,56],\n",
    "        [6,78],\n",
    "        \n",
    "        # Venki\n",
    "        [1,1],\n",
    "        [2,3],\n",
    "        [3,6],\n",
    "        [4,19],\n",
    "        [5,39],\n",
    "        [6,73],\n",
    "        \n",
    "        # Sam\n",
    "        [1, 2],\n",
    "        [2, 4],\n",
    "        [3, 6],\n",
    "        [4, 2],\n",
    "        [5, 0],\n",
    "        [6, 0]\n",
    "    ],\n",
    "    columns = [\"Month\", \"Hours\"]\n",
    ")\n"
   ]
  },
  {
   "cell_type": "code",
   "execution_count": 5,
   "metadata": {
    "slideshow": {
     "slide_type": "slide"
    }
   },
   "outputs": [
    {
     "data": {
      "text/html": [
       "<div>\n",
       "<style scoped>\n",
       "    .dataframe tbody tr th:only-of-type {\n",
       "        vertical-align: middle;\n",
       "    }\n",
       "\n",
       "    .dataframe tbody tr th {\n",
       "        vertical-align: top;\n",
       "    }\n",
       "\n",
       "    .dataframe thead th {\n",
       "        text-align: right;\n",
       "    }\n",
       "</style>\n",
       "<table border=\"1\" class=\"dataframe\">\n",
       "  <thead>\n",
       "    <tr style=\"text-align: right;\">\n",
       "      <th></th>\n",
       "      <th>Month</th>\n",
       "      <th>Hours</th>\n",
       "    </tr>\n",
       "  </thead>\n",
       "  <tbody>\n",
       "    <tr>\n",
       "      <th>0</th>\n",
       "      <td>1</td>\n",
       "      <td>4</td>\n",
       "    </tr>\n",
       "    <tr>\n",
       "      <th>1</th>\n",
       "      <td>2</td>\n",
       "      <td>6</td>\n",
       "    </tr>\n",
       "    <tr>\n",
       "      <th>2</th>\n",
       "      <td>3</td>\n",
       "      <td>12</td>\n",
       "    </tr>\n",
       "    <tr>\n",
       "      <th>3</th>\n",
       "      <td>4</td>\n",
       "      <td>30</td>\n",
       "    </tr>\n",
       "    <tr>\n",
       "      <th>4</th>\n",
       "      <td>5</td>\n",
       "      <td>60</td>\n",
       "    </tr>\n",
       "    <tr>\n",
       "      <th>5</th>\n",
       "      <td>6</td>\n",
       "      <td>90</td>\n",
       "    </tr>\n",
       "    <tr>\n",
       "      <th>6</th>\n",
       "      <td>1</td>\n",
       "      <td>2</td>\n",
       "    </tr>\n",
       "    <tr>\n",
       "      <th>7</th>\n",
       "      <td>2</td>\n",
       "      <td>4</td>\n",
       "    </tr>\n",
       "    <tr>\n",
       "      <th>8</th>\n",
       "      <td>3</td>\n",
       "      <td>10</td>\n",
       "    </tr>\n",
       "    <tr>\n",
       "      <th>9</th>\n",
       "      <td>4</td>\n",
       "      <td>24</td>\n",
       "    </tr>\n",
       "    <tr>\n",
       "      <th>10</th>\n",
       "      <td>5</td>\n",
       "      <td>44</td>\n",
       "    </tr>\n",
       "    <tr>\n",
       "      <th>11</th>\n",
       "      <td>6</td>\n",
       "      <td>70</td>\n",
       "    </tr>\n",
       "    <tr>\n",
       "      <th>12</th>\n",
       "      <td>1</td>\n",
       "      <td>2</td>\n",
       "    </tr>\n",
       "    <tr>\n",
       "      <th>13</th>\n",
       "      <td>2</td>\n",
       "      <td>6</td>\n",
       "    </tr>\n",
       "    <tr>\n",
       "      <th>14</th>\n",
       "      <td>3</td>\n",
       "      <td>11</td>\n",
       "    </tr>\n",
       "    <tr>\n",
       "      <th>15</th>\n",
       "      <td>4</td>\n",
       "      <td>29</td>\n",
       "    </tr>\n",
       "    <tr>\n",
       "      <th>16</th>\n",
       "      <td>5</td>\n",
       "      <td>64</td>\n",
       "    </tr>\n",
       "    <tr>\n",
       "      <th>17</th>\n",
       "      <td>6</td>\n",
       "      <td>98</td>\n",
       "    </tr>\n",
       "    <tr>\n",
       "      <th>18</th>\n",
       "      <td>1</td>\n",
       "      <td>3</td>\n",
       "    </tr>\n",
       "    <tr>\n",
       "      <th>19</th>\n",
       "      <td>2</td>\n",
       "      <td>5</td>\n",
       "    </tr>\n",
       "    <tr>\n",
       "      <th>20</th>\n",
       "      <td>3</td>\n",
       "      <td>8</td>\n",
       "    </tr>\n",
       "    <tr>\n",
       "      <th>21</th>\n",
       "      <td>4</td>\n",
       "      <td>23</td>\n",
       "    </tr>\n",
       "    <tr>\n",
       "      <th>22</th>\n",
       "      <td>5</td>\n",
       "      <td>56</td>\n",
       "    </tr>\n",
       "    <tr>\n",
       "      <th>23</th>\n",
       "      <td>6</td>\n",
       "      <td>78</td>\n",
       "    </tr>\n",
       "    <tr>\n",
       "      <th>24</th>\n",
       "      <td>1</td>\n",
       "      <td>1</td>\n",
       "    </tr>\n",
       "    <tr>\n",
       "      <th>25</th>\n",
       "      <td>2</td>\n",
       "      <td>3</td>\n",
       "    </tr>\n",
       "    <tr>\n",
       "      <th>26</th>\n",
       "      <td>3</td>\n",
       "      <td>6</td>\n",
       "    </tr>\n",
       "    <tr>\n",
       "      <th>27</th>\n",
       "      <td>4</td>\n",
       "      <td>19</td>\n",
       "    </tr>\n",
       "    <tr>\n",
       "      <th>28</th>\n",
       "      <td>5</td>\n",
       "      <td>39</td>\n",
       "    </tr>\n",
       "    <tr>\n",
       "      <th>29</th>\n",
       "      <td>6</td>\n",
       "      <td>73</td>\n",
       "    </tr>\n",
       "    <tr>\n",
       "      <th>30</th>\n",
       "      <td>1</td>\n",
       "      <td>2</td>\n",
       "    </tr>\n",
       "    <tr>\n",
       "      <th>31</th>\n",
       "      <td>2</td>\n",
       "      <td>4</td>\n",
       "    </tr>\n",
       "    <tr>\n",
       "      <th>32</th>\n",
       "      <td>3</td>\n",
       "      <td>9</td>\n",
       "    </tr>\n",
       "    <tr>\n",
       "      <th>33</th>\n",
       "      <td>4</td>\n",
       "      <td>21</td>\n",
       "    </tr>\n",
       "    <tr>\n",
       "      <th>34</th>\n",
       "      <td>5</td>\n",
       "      <td>40</td>\n",
       "    </tr>\n",
       "    <tr>\n",
       "      <th>35</th>\n",
       "      <td>6</td>\n",
       "      <td>77</td>\n",
       "    </tr>\n",
       "  </tbody>\n",
       "</table>\n",
       "</div>"
      ],
      "text/plain": [
       "    Month  Hours\n",
       "0       1      4\n",
       "1       2      6\n",
       "2       3     12\n",
       "3       4     30\n",
       "4       5     60\n",
       "5       6     90\n",
       "6       1      2\n",
       "7       2      4\n",
       "8       3     10\n",
       "9       4     24\n",
       "10      5     44\n",
       "11      6     70\n",
       "12      1      2\n",
       "13      2      6\n",
       "14      3     11\n",
       "15      4     29\n",
       "16      5     64\n",
       "17      6     98\n",
       "18      1      3\n",
       "19      2      5\n",
       "20      3      8\n",
       "21      4     23\n",
       "22      5     56\n",
       "23      6     78\n",
       "24      1      1\n",
       "25      2      3\n",
       "26      3      6\n",
       "27      4     19\n",
       "28      5     39\n",
       "29      6     73\n",
       "30      1      2\n",
       "31      2      4\n",
       "32      3      9\n",
       "33      4     21\n",
       "34      5     40\n",
       "35      6     77"
      ]
     },
     "execution_count": 5,
     "metadata": {},
     "output_type": "execute_result"
    }
   ],
   "source": [
    "df2"
   ]
  },
  {
   "cell_type": "code",
   "execution_count": 9,
   "metadata": {
    "slideshow": {
     "slide_type": "slide"
    }
   },
   "outputs": [
    {
     "data": {
      "text/plain": [
       "<seaborn.axisgrid.PairGrid at 0x1a187264e0>"
      ]
     },
     "execution_count": 9,
     "metadata": {},
     "output_type": "execute_result"
    },
    {
     "data": {
      "image/png": "[encoded data removed]",
      "text/plain": [
       "<Figure size 360x360 with 6 Axes>"
      ]
     },
     "metadata": {},
     "output_type": "display_data"
    }
   ],
   "source": [
    "%matplotlib inline\n",
    "import seaborn as sns; sns.set(style=\"ticks\", color_codes=True)\n",
    "sns.pairplot(df2)"
   ]
  },
  {
   "cell_type": "code",
   "execution_count": 63,
   "metadata": {},
   "outputs": [
    {
     "data": {
      "text/html": [
       "<div>\n",
       "<style scoped>\n",
       "    .dataframe tbody tr th:only-of-type {\n",
       "        vertical-align: middle;\n",
       "    }\n",
       "\n",
       "    .dataframe tbody tr th {\n",
       "        vertical-align: top;\n",
       "    }\n",
       "\n",
       "    .dataframe thead th {\n",
       "        text-align: right;\n",
       "    }\n",
       "</style>\n",
       "<table border=\"1\" class=\"dataframe\">\n",
       "  <thead>\n",
       "    <tr style=\"text-align: right;\">\n",
       "      <th></th>\n",
       "      <th>Month</th>\n",
       "      <th>Hours</th>\n",
       "    </tr>\n",
       "  </thead>\n",
       "  <tbody>\n",
       "    <tr>\n",
       "      <th>0</th>\n",
       "      <td>1</td>\n",
       "      <td>4</td>\n",
       "    </tr>\n",
       "    <tr>\n",
       "      <th>1</th>\n",
       "      <td>2</td>\n",
       "      <td>6</td>\n",
       "    </tr>\n",
       "    <tr>\n",
       "      <th>2</th>\n",
       "      <td>3</td>\n",
       "      <td>12</td>\n",
       "    </tr>\n",
       "    <tr>\n",
       "      <th>3</th>\n",
       "      <td>4</td>\n",
       "      <td>30</td>\n",
       "    </tr>\n",
       "    <tr>\n",
       "      <th>4</th>\n",
       "      <td>5</td>\n",
       "      <td>60</td>\n",
       "    </tr>\n",
       "    <tr>\n",
       "      <th>5</th>\n",
       "      <td>6</td>\n",
       "      <td>90</td>\n",
       "    </tr>\n",
       "    <tr>\n",
       "      <th>6</th>\n",
       "      <td>1</td>\n",
       "      <td>2</td>\n",
       "    </tr>\n",
       "    <tr>\n",
       "      <th>7</th>\n",
       "      <td>2</td>\n",
       "      <td>4</td>\n",
       "    </tr>\n",
       "    <tr>\n",
       "      <th>8</th>\n",
       "      <td>3</td>\n",
       "      <td>10</td>\n",
       "    </tr>\n",
       "    <tr>\n",
       "      <th>9</th>\n",
       "      <td>4</td>\n",
       "      <td>24</td>\n",
       "    </tr>\n",
       "    <tr>\n",
       "      <th>10</th>\n",
       "      <td>5</td>\n",
       "      <td>44</td>\n",
       "    </tr>\n",
       "    <tr>\n",
       "      <th>11</th>\n",
       "      <td>6</td>\n",
       "      <td>70</td>\n",
       "    </tr>\n",
       "    <tr>\n",
       "      <th>12</th>\n",
       "      <td>1</td>\n",
       "      <td>2</td>\n",
       "    </tr>\n",
       "    <tr>\n",
       "      <th>13</th>\n",
       "      <td>2</td>\n",
       "      <td>6</td>\n",
       "    </tr>\n",
       "    <tr>\n",
       "      <th>14</th>\n",
       "      <td>3</td>\n",
       "      <td>11</td>\n",
       "    </tr>\n",
       "    <tr>\n",
       "      <th>15</th>\n",
       "      <td>4</td>\n",
       "      <td>29</td>\n",
       "    </tr>\n",
       "    <tr>\n",
       "      <th>16</th>\n",
       "      <td>5</td>\n",
       "      <td>64</td>\n",
       "    </tr>\n",
       "    <tr>\n",
       "      <th>17</th>\n",
       "      <td>6</td>\n",
       "      <td>98</td>\n",
       "    </tr>\n",
       "    <tr>\n",
       "      <th>18</th>\n",
       "      <td>1</td>\n",
       "      <td>3</td>\n",
       "    </tr>\n",
       "    <tr>\n",
       "      <th>19</th>\n",
       "      <td>2</td>\n",
       "      <td>5</td>\n",
       "    </tr>\n",
       "    <tr>\n",
       "      <th>20</th>\n",
       "      <td>3</td>\n",
       "      <td>8</td>\n",
       "    </tr>\n",
       "    <tr>\n",
       "      <th>21</th>\n",
       "      <td>4</td>\n",
       "      <td>23</td>\n",
       "    </tr>\n",
       "    <tr>\n",
       "      <th>22</th>\n",
       "      <td>5</td>\n",
       "      <td>56</td>\n",
       "    </tr>\n",
       "    <tr>\n",
       "      <th>23</th>\n",
       "      <td>6</td>\n",
       "      <td>78</td>\n",
       "    </tr>\n",
       "    <tr>\n",
       "      <th>24</th>\n",
       "      <td>1</td>\n",
       "      <td>1</td>\n",
       "    </tr>\n",
       "    <tr>\n",
       "      <th>25</th>\n",
       "      <td>2</td>\n",
       "      <td>3</td>\n",
       "    </tr>\n",
       "    <tr>\n",
       "      <th>26</th>\n",
       "      <td>3</td>\n",
       "      <td>6</td>\n",
       "    </tr>\n",
       "    <tr>\n",
       "      <th>27</th>\n",
       "      <td>4</td>\n",
       "      <td>19</td>\n",
       "    </tr>\n",
       "    <tr>\n",
       "      <th>28</th>\n",
       "      <td>5</td>\n",
       "      <td>39</td>\n",
       "    </tr>\n",
       "    <tr>\n",
       "      <th>29</th>\n",
       "      <td>6</td>\n",
       "      <td>73</td>\n",
       "    </tr>\n",
       "  </tbody>\n",
       "</table>\n",
       "</div>"
      ],
      "text/plain": [
       "    Month  Hours\n",
       "0       1      4\n",
       "1       2      6\n",
       "2       3     12\n",
       "3       4     30\n",
       "4       5     60\n",
       "5       6     90\n",
       "6       1      2\n",
       "7       2      4\n",
       "8       3     10\n",
       "9       4     24\n",
       "10      5     44\n",
       "11      6     70\n",
       "12      1      2\n",
       "13      2      6\n",
       "14      3     11\n",
       "15      4     29\n",
       "16      5     64\n",
       "17      6     98\n",
       "18      1      3\n",
       "19      2      5\n",
       "20      3      8\n",
       "21      4     23\n",
       "22      5     56\n",
       "23      6     78\n",
       "24      1      1\n",
       "25      2      3\n",
       "26      3      6\n",
       "27      4     19\n",
       "28      5     39\n",
       "29      6     73"
      ]
     },
     "execution_count": 63,
     "metadata": {},
     "output_type": "execute_result"
    }
   ],
   "source": [
    "# Drop the outlier Sam\n",
    "\n",
    "df2 = df2[:30]\n",
    "df2"
   ]
  },
  {
   "cell_type": "markdown",
   "metadata": {
    "slideshow": {
     "slide_type": "slide"
    }
   },
   "source": [
    "# Overfitting\n",
    "\n",
    "- Say we just made a hash table of input features to labels. A 100% accurate model!...on the training data.\n",
    "- This would fail terribly on new data it hasn't seen\n",
    "- Fitting past data at the expense of generalizing to new data is \"overfitting\"\n",
    "- A lesson is: don't train on your test data\n",
    "- Except...\n",
    "\n"
   ]
  },
  {
   "cell_type": "markdown",
   "metadata": {
    "slideshow": {
     "slide_type": "slide"
    }
   },
   "source": [
    "# Splitting the Data\n",
    "\n",
    "For supervised learning, we need some test data, so we split the data we have into _training data_ and _test data_.\n",
    "\n",
    "80/20 is a common ratio."
   ]
  },
  {
   "cell_type": "code",
   "execution_count": 64,
   "metadata": {},
   "outputs": [],
   "source": [
    "from sklearn.model_selection import train_test_split \n",
    "\n",
    "\n",
    "X_train, X_test, y_train, y_test = train_test_split(df2.Month, df2.Hours, test_size=0.2, random_state=0)\n"
   ]
  },
  {
   "cell_type": "markdown",
   "metadata": {
    "slideshow": {
     "slide_type": "slide"
    }
   },
   "source": [
    "# Improving Model Performance\n",
    "\n",
    "- _bias_ is a measure of the error of the model against the training set; high bias means underfitting\n",
    "- _variance_ is a measure of how sensitive the model is to training data noise; high variance means overfitting\n",
    "\n",
    "If our model performs poorly, we could try get more data or add more features, or we could:\n",
    "\n",
    "- use a more complex model to get a better fit to training data, at the risk of overfitting (reduce bias, increase variance)\n",
    "- use a simpler model because we may have overfit the training data (increase bias, reduce variance)"
   ]
  },
  {
   "cell_type": "markdown",
   "metadata": {
    "slideshow": {
     "slide_type": "slide"
    }
   },
   "source": [
    "# Adding Features\n",
    "\n",
    "We often have other data we can use as features, from past history. E.g. at eBay, we want:\n",
    "\n",
    "`delivery_days = f(from_zip, to_zip, item category, item weight, shipping service, seller)`\n",
    "\n",
    "but we have historical data like mean delivery days per service for different days of the week, mean and standard deviation of past handling times by seller, etc etc. Also we have distance between zips, rural vs urban area, etc.\n",
    "In fact the delivery estimate model used nearly 50 features.\n",
    "\n",
    "There are systems that can automate some of this _feature synthesis_."
   ]
  },
  {
   "cell_type": "markdown",
   "metadata": {
    "slideshow": {
     "slide_type": "slide"
    }
   },
   "source": [
    "# Adding Data - the Learning Curve\n",
    "\n",
    "Assuming we capture the complexity of the data we are modeling, at some point we should have diminishing returns where adding more data doesn't significantly improve the model. This means that if we have a lot of data, it can be useful to measure how well the model is doing as we are training it, so we can stop when we reach the point where the further improvements are negligible. If we plot the training and validation scores as a function of the size of the data set we get the *learning curve*.\n",
    "\n",
    "We would expect that a model will overfit a small dataset and underfit a large dataset, where 'small' and 'large' are dependent on the complexity of the model. We would also expect in almost every case that the training score is better than the validation score(or equivalently the training error is lower than the validation error). So a typical learning curve will look like:\n",
    "\n",
    "![Learning Curve](img/learning-curve.png)\n",
    "\n",
    "Note that the curve converges to some score as the amount of data increases. If the error score for the training set is high, that is high bias; if the scores for test and training are similar we have low variance, but a large gap between them is high variance."
   ]
  },
  {
   "cell_type": "markdown",
   "metadata": {
    "slideshow": {
     "slide_type": "slide"
    }
   },
   "source": [
    "# Cross-Validation\n",
    "\n",
    "Let's say we split the data in half; call the two halves H1 and H2. We could train a model on H1 and test it on H2, and get an accuracy A1. We could train a second model on H2 and test it on H1, and get an accuracy of A2. This suggests that if we train a model using all the data, the accuracy when tested on new data should be somewhere between A1 and A2.\n",
    "\n",
    "In practice, we don't split in half. More generally, we will split the data into k pieces of folds,  𝐹1 ,  𝐹2 , ...,  𝐹𝑘 , and then build  𝑘  models, where the  𝑛 th model uses  𝐹𝑛  as the test set and the remaining pieces excluding  𝐹𝑛  as the training set. The  𝑘  individual scores are then combined into a final score (mean and standard deviation). This is called k-fold cross validation. The size of each fold must be large enough to be a reasonable sample of the problem, while allowing enough repetitions of the train-test evaluation of the algorithm to provide a fair estimate of the algorithms performance on new data. Commonly-used values for k are 5 or 10, although we can go all the way to the extreme where  𝑘  is the size of the training set; this is called leave-one-out cross validation. It is computationally expensive and the results have high variance."
   ]
  },
  {
   "cell_type": "markdown",
   "metadata": {
    "slideshow": {
     "slide_type": "slide"
    }
   },
   "source": [
    "# The Bias-Variance Trade-Off\n",
    "\n",
    "If we increased the complexity of our model, it would do better and better at fitting the training data, but at some point would start getting worse and worse at fitting the test data. This is the *bias-variance trade-off*; you can see it in the plot below where the vertical dashes line is the sweet spot we want to find.\n",
    "\n",
    "![Bias-Variance Trade-Off](img/bias-variance.png)"
   ]
  },
  {
   "cell_type": "markdown",
   "metadata": {},
   "source": [
    "# Ensembles, Bagging and Boosting"
   ]
  },
  {
   "cell_type": "markdown",
   "metadata": {
    "slideshow": {
     "slide_type": "slide"
    }
   },
   "source": [
    "# The \"best\" model may not be best\n",
    "\n",
    "In general we are looking for models that are as accurate as possible, but there are exceptions:\n",
    "    \n",
    "- model performance may be an issue. Do we have latency or QPS constraints?\n",
    "- what is the cost (or value) of a Type 1 or Type 2 error?\n",
    "- do we need the model predictions to be interpretable?\n",
    " "
   ]
  },
  {
   "cell_type": "markdown",
   "metadata": {},
   "source": [
    "# What about Deep Learning?\n",
    "\n",
    "neural networks are capable of modeling any continuous function, but they usually need lots of data and massive compute. \n",
    "transfer learning is a way around this."
   ]
  }
 ],
 "metadata": {
  "celltoolbar": "Slideshow",
  "kernelspec": {
   "display_name": "Python 3",
   "language": "python",
   "name": "python3"
  },
  "language_info": {
   "codemirror_mode": {
    "name": "ipython",
    "version": 3
   },
   "file_extension": ".py",
   "mimetype": "text/x-python",
   "name": "python",
   "nbconvert_exporter": "python",
   "pygments_lexer": "ipython3",
   "version": "3.7.3"
  },
  "rise": {
   "theme": "serif",
   "transition": "zoom"
  }
 },
 "nbformat": 4,
 "nbformat_minor": 2
}
