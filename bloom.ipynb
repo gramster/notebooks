{
 "cells": [
  {
   "cell_type": "code",
   "execution_count": 1,
   "metadata": {},
   "outputs": [],
   "source": [
    "def fnv(s):\n",
    "    hval = 0x811c9dc5\n",
    "    fnv_32_prime = 0x01000193\n",
    "    uint32_max = 2 ** 32\n",
    "    for c in s:\n",
    "        hval = hval ^ ord(c)\n",
    "        hval = (hval * fnv_32_prime) % uint32_max\n",
    "    # Convert fnv1a-32 to 24\n",
    "    return ((hval>>24) ^ hval) & 0xFFFFFF\n"
   ]
  },
  {
   "cell_type": "code",
   "execution_count": 0,
   "metadata": {},
   "outputs": [],
   "source": [
    "def apply_to_lines(file, fn, state=None):\n",
    "    with open(file) as f:\n",
    "        line_num = 1\n",
    "        for line in f.readlines():\n",
    "            line = line[:-1]\n",
    "            if not fn(line_num, line, state):\n",
    "                return False\n",
    "    return True\n"
   ]
  },
  {
   "cell_type": "code",
   "execution_count": 0,
   "metadata": {},
   "outputs": [],
   "source": [
    "\n",
    "def add_hash(line_num, package, hashes):\n",
    "    h = fnv(package)\n",
    "    hashes.append(h)\n",
    "    return True\n",
    "\n",
    "hashes = []\n",
    "apply_to_lines(\"/Users/grwheele/Downloads/train.txt\", add_hash, hashes)\n",
    "hashes = sorted(hashes)\n",
    "\n",
    "print(len(hashes))\n"
   ]
  },
  {
   "cell_type": "code",
   "execution_count": 0,
   "metadata": {},
   "outputs": [],
   "source": [
    "offsets = []\n",
    "index = {}\n",
    "last_h = 0\n",
    "index[0] = 0\n",
    "\n",
    "for i, h in enumerate(hashes):\n",
    "    diff = h - last_h\n",
    "    last_h = h\n",
    "\n",
    "    if diff:\n",
    "        # we use 0 for a continuation\n",
    "        while diff > 255:\n",
    "            offsets.append(0)\n",
    "            diff -= 255\n",
    "        offsets.append(diff)\n",
    "    if i and i % 1000 == 0:\n",
    "        index[h] = len(offsets)\n",
    "    \n",
    "print(len(offsets))\n"
   ]
  },
  {
   "cell_type": "code",
   "execution_count": 0,
   "metadata": {},
   "outputs": [],
   "source": [
    "def is_in_filter(package):\n",
    "    h = fnv(package)\n",
    "    # we could speed this up with a binary search but\n",
    "    # it's not worth it yet\n",
    "    last_k = 0\n",
    "    for k in index.keys():\n",
    "        if k > h:\n",
    "            break\n",
    "        last_k = k\n",
    "    diff = h - last_k\n",
    "    offset = index[last_k]\n",
    "    while diff >= 0:\n",
    "        if diff == 0:\n",
    "            return True\n",
    "        while offsets[offset] == 0:\n",
    "            diff -= 255\n",
    "            offset += 1\n",
    "        diff -= offsets[offset]\n",
    "        offset += 1\n",
    "    return False\n"
   ]
  },
  {
   "cell_type": "code",
   "execution_count": 0,
   "metadata": {},
   "outputs": [],
   "source": [
    "def assert_found(line_num, line, _):\n",
    "    if is_in_filter(line):\n",
    "        return True\n",
    "    print(f\"Failed at {line_num}: {line}\")\n",
    "    return False\n"
   ]
  },
  {
   "cell_type": "code",
   "execution_count": 0,
   "metadata": {},
   "outputs": [],
   "source": [
    "def count_found(line_num, line, state):\n",
    "    if is_in_filter(line):\n",
    "        state[0] += 1\n",
    "    else:\n",
    "        state[1] += 1\n",
    "    return True\n"
   ]
  },
  {
   "cell_type": "code",
   "execution_count": 0,
   "metadata": {},
   "outputs": [],
   "source": [
    "    \n",
    "if apply_to_lines(\"/Users/grwheele/Downloads/train.txt\",assert_found):\n",
    "    print(\"All found!\")\n",
    "        "
   ]
  },
  {
   "cell_type": "code",
   "execution_count": 0,
   "metadata": {},
   "outputs": [],
   "source": [
    "counts = [0, 0]\n",
    "apply_to_lines(\"/Users/grwheele/Downloads/test.txt\", count_found, counts)\n",
    "print(f\"{counts[0]} false positives, {counts[1]} true positives\")\n",
    "\n",
    "\n"
   ]
  },
  {
   "cell_type": "code",
   "execution_count": 0,
   "metadata": {},
   "outputs": [],
   "source": [
    "\n"
   ]
  },
  {
   "cell_type": "code",
   "execution_count": 0,
   "metadata": {},
   "outputs": [],
   "source": []
  }
 ],
 "metadata": {
  "file_extension": ".py",
  "kernelspec": {
   "display_name": "Python 3",
   "language": "python",
   "name": "python3"
  },
  "language_info": {
   "codemirror_mode": {
    "name": "ipython",
    "version": 3
   },
   "file_extension": ".py",
   "mimetype": "text/x-python",
   "name": "python",
   "nbconvert_exporter": "python",
   "pygments_lexer": "ipython3",
   "version": "3.7.1"
  },
  "mimetype": "text/x-python",
  "name": "python",
  "npconvert_exporter": "python",
  "pygments_lexer": "ipython3",
  "version": 3
 },
 "nbformat": 4,
 "nbformat_minor": 2
}
